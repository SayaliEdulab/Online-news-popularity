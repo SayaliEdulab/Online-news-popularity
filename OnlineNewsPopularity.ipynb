{
  "nbformat": 4,
  "nbformat_minor": 0,
  "metadata": {
    "colab": {
      "name": "OnlineNewsPopularity.ipynb",
      "provenance": [],
      "authorship_tag": "ABX9TyMOuX/cVTAzn92oTQC0lC3z",
      "include_colab_link": true
    },
    "kernelspec": {
      "name": "python3",
      "display_name": "Python 3"
    }
  },
  "cells": [
    {
      "cell_type": "markdown",
      "metadata": {
        "id": "view-in-github",
        "colab_type": "text"
      },
      "source": [
        "<a href=\"https://colab.research.google.com/github/sayali-patekar/Online-news-popularity/blob/master/OnlineNewsPopularity.ipynb\" target=\"_parent\"><img src=\"https://colab.research.google.com/assets/colab-badge.svg\" alt=\"Open In Colab\"/></a>"
      ]
    },
    {
      "cell_type": "code",
      "metadata": {
        "id": "ln6MQxI5Hzj3",
        "colab_type": "code",
        "colab": {}
      },
      "source": [
        "# Code to read csv file into colaboratory:\n",
        "!pip install -U -q PyDrive\n",
        "from pydrive.auth import GoogleAuth\n",
        "from pydrive.drive import GoogleDrive\n",
        "from google.colab import auth\n",
        "from oauth2client.client import GoogleCredentials\n"
      ],
      "execution_count": 0,
      "outputs": []
    },
    {
      "cell_type": "code",
      "metadata": {
        "id": "UcmcUwzPIJp-",
        "colab_type": "code",
        "colab": {}
      },
      "source": [
        "auth.authenticate_user()\n",
        "gauth = GoogleAuth()\n",
        "gauth.credentials = GoogleCredentials.get_application_default()\n",
        "drive = GoogleDrive(gauth)\n"
      ],
      "execution_count": 0,
      "outputs": []
    },
    {
      "cell_type": "code",
      "metadata": {
        "id": "KZl-dQlNI4HR",
        "colab_type": "code",
        "colab": {}
      },
      "source": [
        "downloaded = drive.CreateFile({'id':'1Kj-J1fr_QS8D4Doxs5zhSWRQrhrlMutV'}) # replace the id with id of file you want to access\n",
        "downloaded.GetContentFile('OnlineNewsPopularity.csv')\n"
      ],
      "execution_count": 0,
      "outputs": []
    },
    {
      "cell_type": "code",
      "metadata": {
        "id": "QJTVsdBtJoeU",
        "colab_type": "code",
        "colab": {}
      },
      "source": [
        "import pandas as pd\n",
        "import numpy as np\n",
        "from sklearn.metrics import accuracy_score\n",
        "from sklearn.model_selection import train_test_split\n",
        "from sklearn.tree import DecisionTreeClassifier\n",
        "from sklearn.feature_selection import RFE\n",
        "from sklearn.linear_model import LinearRegression\n",
        "from sklearn.metrics import confusion_matrix\n",
        "import matplotlib.pyplot as plt\n",
        "\n",
        "from sklearn.model_selection import cross_validate as cross_val_score\n",
        "\n"
      ],
      "execution_count": 0,
      "outputs": []
    },
    {
      "cell_type": "code",
      "metadata": {
        "id": "yNHrGFd3JKZT",
        "colab_type": "code",
        "colab": {}
      },
      "source": [
        "data = pd.read_csv('OnlineNewsPopularity.csv')\n"
      ],
      "execution_count": 0,
      "outputs": []
    },
    {
      "cell_type": "markdown",
      "metadata": {
        "id": "uwVf4MkcJ7di",
        "colab_type": "text"
      },
      "source": [
        "DATA UNDERSTANDING\n",
        "The dataset is taken from UCI Machine learning repository (link: https://archive.ics.uci.edu/ml/datasets/online+news+popularity). The dataset was published by Mashable (www.mashable.com) and the acquisition date was on January 8,2015.\n",
        "\n",
        "Attribute Information:\n",
        "\n",
        " 0. url:                           URL of the article\n",
        " 1. timedelta:                     Days between the article publication and\n",
        "                                   the dataset acquisition\n",
        " 2. n_tokens_title:                Number of words in the title\n",
        " 3. n_tokens_content:              Number of words in the content\n",
        " 4. n_unique_tokens:               Rate of unique words in the content\n",
        " 5. n_non_stop_words:              Rate of non-stop words in the content\n",
        " 6. n_non_stop_unique_tokens:      Rate of unique non-stop words in the\n",
        "                                   content\n",
        " 7. num_hrefs:                     Number of links\n",
        " 8. num_self_hrefs:                Number of links to other articles\n",
        "                                   published by Mashable\n",
        " 9. num_imgs:                      Number of images\n",
        "10. num_videos:                    Number of videos\n",
        "11. average_token_length:          Average length of the words in the\n",
        "                                   content\n",
        "12. num_keywords:                  Number of keywords in the metadata\n",
        "13. data_channel_is_lifestyle:     Is data channel 'Lifestyle'?\n",
        "14. data_channel_is_entertainment: Is data channel 'Entertainment'?\n",
        "15. data_channel_is_bus:           Is data channel 'Business'?\n",
        "16. data_channel_is_socmed:        Is data channel 'Social Media'?\n",
        "17. data_channel_is_tech:          Is data channel 'Tech'?\n",
        "18. data_channel_is_world:         Is data channel 'World'?\n",
        "19. kw_min_min:                    Worst keyword (min. shares)\n",
        "20. kw_max_min:                    Worst keyword (max. shares)\n",
        "21. kw_avg_min:                    Worst keyword (avg. shares)\n",
        "22. kw_min_max:                    Best keyword (min. shares)\n",
        "23. kw_max_max:                    Best keyword (max. shares)\n",
        "24. kw_avg_max:                    Best keyword (avg. shares)\n",
        "25. kw_min_avg:                    Avg. keyword (min. shares)\n",
        "26. kw_max_avg:                    Avg. keyword (max. shares)\n",
        "27. kw_avg_avg:                    Avg. keyword (avg. shares)\n",
        "28. self_reference_min_shares:     Min. shares of referenced articles in\n",
        "                                   Mashable\n",
        "29. self_reference_max_shares:     Max. shares of referenced articles in\n",
        "                                   Mashable\n",
        "30. self_reference_avg_sharess:    Avg. shares of referenced articles in\n",
        "                                   Mashable\n",
        "31. weekday_is_monday:             Was the article published on a Monday?\n",
        "32. weekday_is_tuesday:            Was the article published on a Tuesday?\n",
        "33. weekday_is_wednesday:          Was the article published on a Wednesday?\n",
        "34. weekday_is_thursday:           Was the article published on a Thursday?\n",
        "35. weekday_is_friday:             Was the article published on a Friday?\n",
        "36. weekday_is_saturday:           Was the article published on a Saturday?\n",
        "37. weekday_is_sunday:             Was the article published on a Sunday?\n",
        "38. is_weekend:                    Was the article published on the weekend?\n",
        "39. LDA_00:                        Closeness to LDA topic 0\n",
        "40. LDA_01:                        Closeness to LDA topic 1\n",
        "41. LDA_02:                        Closeness to LDA topic 2\n",
        "42. LDA_03:                        Closeness to LDA topic 3\n",
        "43. LDA_04:                        Closeness to LDA topic 4\n",
        "44. global_subjectivity:           Text subjectivity\n",
        "45. global_sentiment_polarity:     Text sentiment polarity\n",
        "46. global_rate_positive_words:    Rate of positive words in the content\n",
        "47. global_rate_negative_words:    Rate of negative words in the content\n",
        "48. rate_positive_words:           Rate of positive words among non-neutral\n",
        "                                   tokens\n",
        "49. rate_negative_words:           Rate of negative words among non-neutral\n",
        "                                   tokens\n",
        "50. avg_positive_polarity:         Avg. polarity of positive words\n",
        "51. min_positive_polarity:         Min. polarity of positive words\n",
        "52. max_positive_polarity:         Max. polarity of positive words\n",
        "53. avg_negative_polarity:         Avg. polarity of negative  words\n",
        "54. min_negative_polarity:         Min. polarity of negative  words\n",
        "55. max_negative_polarity:         Max. polarity of negative  words\n",
        "56. title_subjectivity:            Title subjectivity\n",
        "57. title_sentiment_polarity:      Title polarity\n",
        "58. abs_title_subjectivity:        Absolute subjectivity level\n",
        "59. abs_title_sentiment_polarity:  Absolute polarity level\n",
        "60. shares:                        Number of shares (target)\n",
        "\n",
        "The dataset contains 61 attributes out of which 58 attributes are predictive, 2 non-predictive attributes and 1 target attribute.The target attribute being the number of shares of that particular article there are various attributes taken into consideration like-number of images, number of videos,unique tokens and so on that are contributing towards the increase in the number of shares.\n",
        "\n",
        "In the below step the dataset is loaded into the book using pandas dataframe. And all the attributes in the dataset are listed.\n",
        "\n"
      ]
    },
    {
      "cell_type": "code",
      "metadata": {
        "id": "jvpHbNucJi7-",
        "colab_type": "code",
        "outputId": "0a695caa-c4c8-476e-df4a-07c4d600c208",
        "colab": {
          "base_uri": "https://localhost:8080/",
          "height": 403
        }
      },
      "source": [
        "#Checking all the columns \n",
        "data.columns\n"
      ],
      "execution_count": 0,
      "outputs": [
        {
          "output_type": "execute_result",
          "data": {
            "text/plain": [
              "Index(['url', ' timedelta', ' n_tokens_title', ' n_tokens_content',\n",
              "       ' n_unique_tokens', ' n_non_stop_words', ' n_non_stop_unique_tokens',\n",
              "       ' num_hrefs', ' num_self_hrefs', ' num_imgs', ' num_videos',\n",
              "       ' average_token_length', ' num_keywords', ' data_channel_is_lifestyle',\n",
              "       ' data_channel_is_entertainment', ' data_channel_is_bus',\n",
              "       ' data_channel_is_socmed', ' data_channel_is_tech',\n",
              "       ' data_channel_is_world', ' kw_min_min', ' kw_max_min', ' kw_avg_min',\n",
              "       ' kw_min_max', ' kw_max_max', ' kw_avg_max', ' kw_min_avg',\n",
              "       ' kw_max_avg', ' kw_avg_avg', ' self_reference_min_shares',\n",
              "       ' self_reference_max_shares', ' self_reference_avg_sharess',\n",
              "       ' weekday_is_monday', ' weekday_is_tuesday', ' weekday_is_wednesday',\n",
              "       ' weekday_is_thursday', ' weekday_is_friday', ' weekday_is_saturday',\n",
              "       ' weekday_is_sunday', ' is_weekend', ' LDA_00', ' LDA_01', ' LDA_02',\n",
              "       ' LDA_03', ' LDA_04', ' global_subjectivity',\n",
              "       ' global_sentiment_polarity', ' global_rate_positive_words',\n",
              "       ' global_rate_negative_words', ' rate_positive_words',\n",
              "       ' rate_negative_words', ' avg_positive_polarity',\n",
              "       ' min_positive_polarity', ' max_positive_polarity',\n",
              "       ' avg_negative_polarity', ' min_negative_polarity',\n",
              "       ' max_negative_polarity', ' title_subjectivity',\n",
              "       ' title_sentiment_polarity', ' abs_title_subjectivity',\n",
              "       ' abs_title_sentiment_polarity', ' shares'],\n",
              "      dtype='object')"
            ]
          },
          "metadata": {
            "tags": []
          },
          "execution_count": 12
        }
      ]
    },
    {
      "cell_type": "code",
      "metadata": {
        "id": "obUAFyisKLyy",
        "colab_type": "code",
        "outputId": "66a3b161-6349-45e2-9d50-4a2d21a71694",
        "colab": {
          "base_uri": "https://localhost:8080/",
          "height": 299
        }
      },
      "source": [
        "data.head()"
      ],
      "execution_count": 0,
      "outputs": [
        {
          "output_type": "execute_result",
          "data": {
            "text/html": [
              "<div>\n",
              "<style scoped>\n",
              "    .dataframe tbody tr th:only-of-type {\n",
              "        vertical-align: middle;\n",
              "    }\n",
              "\n",
              "    .dataframe tbody tr th {\n",
              "        vertical-align: top;\n",
              "    }\n",
              "\n",
              "    .dataframe thead th {\n",
              "        text-align: right;\n",
              "    }\n",
              "</style>\n",
              "<table border=\"1\" class=\"dataframe\">\n",
              "  <thead>\n",
              "    <tr style=\"text-align: right;\">\n",
              "      <th></th>\n",
              "      <th>url</th>\n",
              "      <th>timedelta</th>\n",
              "      <th>n_tokens_title</th>\n",
              "      <th>n_tokens_content</th>\n",
              "      <th>n_unique_tokens</th>\n",
              "      <th>n_non_stop_words</th>\n",
              "      <th>n_non_stop_unique_tokens</th>\n",
              "      <th>num_hrefs</th>\n",
              "      <th>num_self_hrefs</th>\n",
              "      <th>num_imgs</th>\n",
              "      <th>num_videos</th>\n",
              "      <th>average_token_length</th>\n",
              "      <th>num_keywords</th>\n",
              "      <th>data_channel_is_lifestyle</th>\n",
              "      <th>data_channel_is_entertainment</th>\n",
              "      <th>data_channel_is_bus</th>\n",
              "      <th>data_channel_is_socmed</th>\n",
              "      <th>data_channel_is_tech</th>\n",
              "      <th>data_channel_is_world</th>\n",
              "      <th>kw_min_min</th>\n",
              "      <th>kw_max_min</th>\n",
              "      <th>kw_avg_min</th>\n",
              "      <th>kw_min_max</th>\n",
              "      <th>kw_max_max</th>\n",
              "      <th>kw_avg_max</th>\n",
              "      <th>kw_min_avg</th>\n",
              "      <th>kw_max_avg</th>\n",
              "      <th>kw_avg_avg</th>\n",
              "      <th>self_reference_min_shares</th>\n",
              "      <th>self_reference_max_shares</th>\n",
              "      <th>self_reference_avg_sharess</th>\n",
              "      <th>weekday_is_monday</th>\n",
              "      <th>weekday_is_tuesday</th>\n",
              "      <th>weekday_is_wednesday</th>\n",
              "      <th>weekday_is_thursday</th>\n",
              "      <th>weekday_is_friday</th>\n",
              "      <th>weekday_is_saturday</th>\n",
              "      <th>weekday_is_sunday</th>\n",
              "      <th>is_weekend</th>\n",
              "      <th>LDA_00</th>\n",
              "      <th>LDA_01</th>\n",
              "      <th>LDA_02</th>\n",
              "      <th>LDA_03</th>\n",
              "      <th>LDA_04</th>\n",
              "      <th>global_subjectivity</th>\n",
              "      <th>global_sentiment_polarity</th>\n",
              "      <th>global_rate_positive_words</th>\n",
              "      <th>global_rate_negative_words</th>\n",
              "      <th>rate_positive_words</th>\n",
              "      <th>rate_negative_words</th>\n",
              "      <th>avg_positive_polarity</th>\n",
              "      <th>min_positive_polarity</th>\n",
              "      <th>max_positive_polarity</th>\n",
              "      <th>avg_negative_polarity</th>\n",
              "      <th>min_negative_polarity</th>\n",
              "      <th>max_negative_polarity</th>\n",
              "      <th>title_subjectivity</th>\n",
              "      <th>title_sentiment_polarity</th>\n",
              "      <th>abs_title_subjectivity</th>\n",
              "      <th>abs_title_sentiment_polarity</th>\n",
              "      <th>shares</th>\n",
              "    </tr>\n",
              "  </thead>\n",
              "  <tbody>\n",
              "    <tr>\n",
              "      <th>0</th>\n",
              "      <td>http://mashable.com/2013/01/07/amazon-instant-...</td>\n",
              "      <td>731.0</td>\n",
              "      <td>12.0</td>\n",
              "      <td>219.0</td>\n",
              "      <td>0.663594</td>\n",
              "      <td>1.0</td>\n",
              "      <td>0.815385</td>\n",
              "      <td>4.0</td>\n",
              "      <td>2.0</td>\n",
              "      <td>1.0</td>\n",
              "      <td>0.0</td>\n",
              "      <td>4.680365</td>\n",
              "      <td>5.0</td>\n",
              "      <td>0.0</td>\n",
              "      <td>1.0</td>\n",
              "      <td>0.0</td>\n",
              "      <td>0.0</td>\n",
              "      <td>0.0</td>\n",
              "      <td>0.0</td>\n",
              "      <td>0.0</td>\n",
              "      <td>0.0</td>\n",
              "      <td>0.0</td>\n",
              "      <td>0.0</td>\n",
              "      <td>0.0</td>\n",
              "      <td>0.0</td>\n",
              "      <td>0.0</td>\n",
              "      <td>0.0</td>\n",
              "      <td>0.0</td>\n",
              "      <td>496.0</td>\n",
              "      <td>496.0</td>\n",
              "      <td>496.000000</td>\n",
              "      <td>1.0</td>\n",
              "      <td>0.0</td>\n",
              "      <td>0.0</td>\n",
              "      <td>0.0</td>\n",
              "      <td>0.0</td>\n",
              "      <td>0.0</td>\n",
              "      <td>0.0</td>\n",
              "      <td>0.0</td>\n",
              "      <td>0.500331</td>\n",
              "      <td>0.378279</td>\n",
              "      <td>0.040005</td>\n",
              "      <td>0.041263</td>\n",
              "      <td>0.040123</td>\n",
              "      <td>0.521617</td>\n",
              "      <td>0.092562</td>\n",
              "      <td>0.045662</td>\n",
              "      <td>0.013699</td>\n",
              "      <td>0.769231</td>\n",
              "      <td>0.230769</td>\n",
              "      <td>0.378636</td>\n",
              "      <td>0.100000</td>\n",
              "      <td>0.7</td>\n",
              "      <td>-0.350000</td>\n",
              "      <td>-0.600</td>\n",
              "      <td>-0.200000</td>\n",
              "      <td>0.500000</td>\n",
              "      <td>-0.187500</td>\n",
              "      <td>0.000000</td>\n",
              "      <td>0.187500</td>\n",
              "      <td>593</td>\n",
              "    </tr>\n",
              "    <tr>\n",
              "      <th>1</th>\n",
              "      <td>http://mashable.com/2013/01/07/ap-samsung-spon...</td>\n",
              "      <td>731.0</td>\n",
              "      <td>9.0</td>\n",
              "      <td>255.0</td>\n",
              "      <td>0.604743</td>\n",
              "      <td>1.0</td>\n",
              "      <td>0.791946</td>\n",
              "      <td>3.0</td>\n",
              "      <td>1.0</td>\n",
              "      <td>1.0</td>\n",
              "      <td>0.0</td>\n",
              "      <td>4.913725</td>\n",
              "      <td>4.0</td>\n",
              "      <td>0.0</td>\n",
              "      <td>0.0</td>\n",
              "      <td>1.0</td>\n",
              "      <td>0.0</td>\n",
              "      <td>0.0</td>\n",
              "      <td>0.0</td>\n",
              "      <td>0.0</td>\n",
              "      <td>0.0</td>\n",
              "      <td>0.0</td>\n",
              "      <td>0.0</td>\n",
              "      <td>0.0</td>\n",
              "      <td>0.0</td>\n",
              "      <td>0.0</td>\n",
              "      <td>0.0</td>\n",
              "      <td>0.0</td>\n",
              "      <td>0.0</td>\n",
              "      <td>0.0</td>\n",
              "      <td>0.000000</td>\n",
              "      <td>1.0</td>\n",
              "      <td>0.0</td>\n",
              "      <td>0.0</td>\n",
              "      <td>0.0</td>\n",
              "      <td>0.0</td>\n",
              "      <td>0.0</td>\n",
              "      <td>0.0</td>\n",
              "      <td>0.0</td>\n",
              "      <td>0.799756</td>\n",
              "      <td>0.050047</td>\n",
              "      <td>0.050096</td>\n",
              "      <td>0.050101</td>\n",
              "      <td>0.050001</td>\n",
              "      <td>0.341246</td>\n",
              "      <td>0.148948</td>\n",
              "      <td>0.043137</td>\n",
              "      <td>0.015686</td>\n",
              "      <td>0.733333</td>\n",
              "      <td>0.266667</td>\n",
              "      <td>0.286915</td>\n",
              "      <td>0.033333</td>\n",
              "      <td>0.7</td>\n",
              "      <td>-0.118750</td>\n",
              "      <td>-0.125</td>\n",
              "      <td>-0.100000</td>\n",
              "      <td>0.000000</td>\n",
              "      <td>0.000000</td>\n",
              "      <td>0.500000</td>\n",
              "      <td>0.000000</td>\n",
              "      <td>711</td>\n",
              "    </tr>\n",
              "    <tr>\n",
              "      <th>2</th>\n",
              "      <td>http://mashable.com/2013/01/07/apple-40-billio...</td>\n",
              "      <td>731.0</td>\n",
              "      <td>9.0</td>\n",
              "      <td>211.0</td>\n",
              "      <td>0.575130</td>\n",
              "      <td>1.0</td>\n",
              "      <td>0.663866</td>\n",
              "      <td>3.0</td>\n",
              "      <td>1.0</td>\n",
              "      <td>1.0</td>\n",
              "      <td>0.0</td>\n",
              "      <td>4.393365</td>\n",
              "      <td>6.0</td>\n",
              "      <td>0.0</td>\n",
              "      <td>0.0</td>\n",
              "      <td>1.0</td>\n",
              "      <td>0.0</td>\n",
              "      <td>0.0</td>\n",
              "      <td>0.0</td>\n",
              "      <td>0.0</td>\n",
              "      <td>0.0</td>\n",
              "      <td>0.0</td>\n",
              "      <td>0.0</td>\n",
              "      <td>0.0</td>\n",
              "      <td>0.0</td>\n",
              "      <td>0.0</td>\n",
              "      <td>0.0</td>\n",
              "      <td>0.0</td>\n",
              "      <td>918.0</td>\n",
              "      <td>918.0</td>\n",
              "      <td>918.000000</td>\n",
              "      <td>1.0</td>\n",
              "      <td>0.0</td>\n",
              "      <td>0.0</td>\n",
              "      <td>0.0</td>\n",
              "      <td>0.0</td>\n",
              "      <td>0.0</td>\n",
              "      <td>0.0</td>\n",
              "      <td>0.0</td>\n",
              "      <td>0.217792</td>\n",
              "      <td>0.033334</td>\n",
              "      <td>0.033351</td>\n",
              "      <td>0.033334</td>\n",
              "      <td>0.682188</td>\n",
              "      <td>0.702222</td>\n",
              "      <td>0.323333</td>\n",
              "      <td>0.056872</td>\n",
              "      <td>0.009479</td>\n",
              "      <td>0.857143</td>\n",
              "      <td>0.142857</td>\n",
              "      <td>0.495833</td>\n",
              "      <td>0.100000</td>\n",
              "      <td>1.0</td>\n",
              "      <td>-0.466667</td>\n",
              "      <td>-0.800</td>\n",
              "      <td>-0.133333</td>\n",
              "      <td>0.000000</td>\n",
              "      <td>0.000000</td>\n",
              "      <td>0.500000</td>\n",
              "      <td>0.000000</td>\n",
              "      <td>1500</td>\n",
              "    </tr>\n",
              "    <tr>\n",
              "      <th>3</th>\n",
              "      <td>http://mashable.com/2013/01/07/astronaut-notre...</td>\n",
              "      <td>731.0</td>\n",
              "      <td>9.0</td>\n",
              "      <td>531.0</td>\n",
              "      <td>0.503788</td>\n",
              "      <td>1.0</td>\n",
              "      <td>0.665635</td>\n",
              "      <td>9.0</td>\n",
              "      <td>0.0</td>\n",
              "      <td>1.0</td>\n",
              "      <td>0.0</td>\n",
              "      <td>4.404896</td>\n",
              "      <td>7.0</td>\n",
              "      <td>0.0</td>\n",
              "      <td>1.0</td>\n",
              "      <td>0.0</td>\n",
              "      <td>0.0</td>\n",
              "      <td>0.0</td>\n",
              "      <td>0.0</td>\n",
              "      <td>0.0</td>\n",
              "      <td>0.0</td>\n",
              "      <td>0.0</td>\n",
              "      <td>0.0</td>\n",
              "      <td>0.0</td>\n",
              "      <td>0.0</td>\n",
              "      <td>0.0</td>\n",
              "      <td>0.0</td>\n",
              "      <td>0.0</td>\n",
              "      <td>0.0</td>\n",
              "      <td>0.0</td>\n",
              "      <td>0.000000</td>\n",
              "      <td>1.0</td>\n",
              "      <td>0.0</td>\n",
              "      <td>0.0</td>\n",
              "      <td>0.0</td>\n",
              "      <td>0.0</td>\n",
              "      <td>0.0</td>\n",
              "      <td>0.0</td>\n",
              "      <td>0.0</td>\n",
              "      <td>0.028573</td>\n",
              "      <td>0.419300</td>\n",
              "      <td>0.494651</td>\n",
              "      <td>0.028905</td>\n",
              "      <td>0.028572</td>\n",
              "      <td>0.429850</td>\n",
              "      <td>0.100705</td>\n",
              "      <td>0.041431</td>\n",
              "      <td>0.020716</td>\n",
              "      <td>0.666667</td>\n",
              "      <td>0.333333</td>\n",
              "      <td>0.385965</td>\n",
              "      <td>0.136364</td>\n",
              "      <td>0.8</td>\n",
              "      <td>-0.369697</td>\n",
              "      <td>-0.600</td>\n",
              "      <td>-0.166667</td>\n",
              "      <td>0.000000</td>\n",
              "      <td>0.000000</td>\n",
              "      <td>0.500000</td>\n",
              "      <td>0.000000</td>\n",
              "      <td>1200</td>\n",
              "    </tr>\n",
              "    <tr>\n",
              "      <th>4</th>\n",
              "      <td>http://mashable.com/2013/01/07/att-u-verse-apps/</td>\n",
              "      <td>731.0</td>\n",
              "      <td>13.0</td>\n",
              "      <td>1072.0</td>\n",
              "      <td>0.415646</td>\n",
              "      <td>1.0</td>\n",
              "      <td>0.540890</td>\n",
              "      <td>19.0</td>\n",
              "      <td>19.0</td>\n",
              "      <td>20.0</td>\n",
              "      <td>0.0</td>\n",
              "      <td>4.682836</td>\n",
              "      <td>7.0</td>\n",
              "      <td>0.0</td>\n",
              "      <td>0.0</td>\n",
              "      <td>0.0</td>\n",
              "      <td>0.0</td>\n",
              "      <td>1.0</td>\n",
              "      <td>0.0</td>\n",
              "      <td>0.0</td>\n",
              "      <td>0.0</td>\n",
              "      <td>0.0</td>\n",
              "      <td>0.0</td>\n",
              "      <td>0.0</td>\n",
              "      <td>0.0</td>\n",
              "      <td>0.0</td>\n",
              "      <td>0.0</td>\n",
              "      <td>0.0</td>\n",
              "      <td>545.0</td>\n",
              "      <td>16000.0</td>\n",
              "      <td>3151.157895</td>\n",
              "      <td>1.0</td>\n",
              "      <td>0.0</td>\n",
              "      <td>0.0</td>\n",
              "      <td>0.0</td>\n",
              "      <td>0.0</td>\n",
              "      <td>0.0</td>\n",
              "      <td>0.0</td>\n",
              "      <td>0.0</td>\n",
              "      <td>0.028633</td>\n",
              "      <td>0.028794</td>\n",
              "      <td>0.028575</td>\n",
              "      <td>0.028572</td>\n",
              "      <td>0.885427</td>\n",
              "      <td>0.513502</td>\n",
              "      <td>0.281003</td>\n",
              "      <td>0.074627</td>\n",
              "      <td>0.012127</td>\n",
              "      <td>0.860215</td>\n",
              "      <td>0.139785</td>\n",
              "      <td>0.411127</td>\n",
              "      <td>0.033333</td>\n",
              "      <td>1.0</td>\n",
              "      <td>-0.220192</td>\n",
              "      <td>-0.500</td>\n",
              "      <td>-0.050000</td>\n",
              "      <td>0.454545</td>\n",
              "      <td>0.136364</td>\n",
              "      <td>0.045455</td>\n",
              "      <td>0.136364</td>\n",
              "      <td>505</td>\n",
              "    </tr>\n",
              "  </tbody>\n",
              "</table>\n",
              "</div>"
            ],
            "text/plain": [
              "                                                 url  ...   shares\n",
              "0  http://mashable.com/2013/01/07/amazon-instant-...  ...      593\n",
              "1  http://mashable.com/2013/01/07/ap-samsung-spon...  ...      711\n",
              "2  http://mashable.com/2013/01/07/apple-40-billio...  ...     1500\n",
              "3  http://mashable.com/2013/01/07/astronaut-notre...  ...     1200\n",
              "4   http://mashable.com/2013/01/07/att-u-verse-apps/  ...      505\n",
              "\n",
              "[5 rows x 61 columns]"
            ]
          },
          "metadata": {
            "tags": []
          },
          "execution_count": 13
        }
      ]
    },
    {
      "cell_type": "code",
      "metadata": {
        "id": "DraxmhX7KOv_",
        "colab_type": "code",
        "outputId": "3dff482d-0eed-485e-f0c9-3edabd0ff89a",
        "colab": {
          "base_uri": "https://localhost:8080/",
          "height": 34
        }
      },
      "source": [
        "data.shape\n"
      ],
      "execution_count": 0,
      "outputs": [
        {
          "output_type": "execute_result",
          "data": {
            "text/plain": [
              "(39644, 61)"
            ]
          },
          "metadata": {
            "tags": []
          },
          "execution_count": 14
        }
      ]
    },
    {
      "cell_type": "markdown",
      "metadata": {
        "id": "ZvHFMY3fKVym",
        "colab_type": "text"
      },
      "source": [
        "DATA PREPARATION:¶\n",
        "Data preparation is one of the important steps in data mining.The data used for this project is firstly checked foe any null values and the data is checked for any noisy variables.The target variable is defined as a continous variable int the dataset, the target is transformed into categorical to fit the classification models used for analysis.The attributes are selected on the basis of domain knowledge and the recursive feature elimination(RFE) model provided by thr sklearnn library.\n",
        "\n",
        "The problem of data leakage is handled by using the practices that are used to minimize data leakage when developing predictive models.The data is split into two training and validation data and the data is preapared using cross validation folds\n",
        "\n"
      ]
    },
    {
      "cell_type": "code",
      "metadata": {
        "id": "ZGYvgKXaKSCq",
        "colab_type": "code",
        "outputId": "a8c0e3ee-b77b-4b23-c843-c40d9cd09127",
        "colab": {
          "base_uri": "https://localhost:8080/",
          "height": 304
        }
      },
      "source": [
        "data.describe()\n"
      ],
      "execution_count": 0,
      "outputs": [
        {
          "output_type": "execute_result",
          "data": {
            "text/html": [
              "<div>\n",
              "<style scoped>\n",
              "    .dataframe tbody tr th:only-of-type {\n",
              "        vertical-align: middle;\n",
              "    }\n",
              "\n",
              "    .dataframe tbody tr th {\n",
              "        vertical-align: top;\n",
              "    }\n",
              "\n",
              "    .dataframe thead th {\n",
              "        text-align: right;\n",
              "    }\n",
              "</style>\n",
              "<table border=\"1\" class=\"dataframe\">\n",
              "  <thead>\n",
              "    <tr style=\"text-align: right;\">\n",
              "      <th></th>\n",
              "      <th>timedelta</th>\n",
              "      <th>n_tokens_title</th>\n",
              "      <th>n_tokens_content</th>\n",
              "      <th>n_unique_tokens</th>\n",
              "      <th>n_non_stop_words</th>\n",
              "      <th>n_non_stop_unique_tokens</th>\n",
              "      <th>num_hrefs</th>\n",
              "      <th>num_self_hrefs</th>\n",
              "      <th>num_imgs</th>\n",
              "      <th>num_videos</th>\n",
              "      <th>average_token_length</th>\n",
              "      <th>num_keywords</th>\n",
              "      <th>data_channel_is_lifestyle</th>\n",
              "      <th>data_channel_is_entertainment</th>\n",
              "      <th>data_channel_is_bus</th>\n",
              "      <th>data_channel_is_socmed</th>\n",
              "      <th>data_channel_is_tech</th>\n",
              "      <th>data_channel_is_world</th>\n",
              "      <th>kw_min_min</th>\n",
              "      <th>kw_max_min</th>\n",
              "      <th>kw_avg_min</th>\n",
              "      <th>kw_min_max</th>\n",
              "      <th>kw_max_max</th>\n",
              "      <th>kw_avg_max</th>\n",
              "      <th>kw_min_avg</th>\n",
              "      <th>kw_max_avg</th>\n",
              "      <th>kw_avg_avg</th>\n",
              "      <th>self_reference_min_shares</th>\n",
              "      <th>self_reference_max_shares</th>\n",
              "      <th>self_reference_avg_sharess</th>\n",
              "      <th>weekday_is_monday</th>\n",
              "      <th>weekday_is_tuesday</th>\n",
              "      <th>weekday_is_wednesday</th>\n",
              "      <th>weekday_is_thursday</th>\n",
              "      <th>weekday_is_friday</th>\n",
              "      <th>weekday_is_saturday</th>\n",
              "      <th>weekday_is_sunday</th>\n",
              "      <th>is_weekend</th>\n",
              "      <th>LDA_00</th>\n",
              "      <th>LDA_01</th>\n",
              "      <th>LDA_02</th>\n",
              "      <th>LDA_03</th>\n",
              "      <th>LDA_04</th>\n",
              "      <th>global_subjectivity</th>\n",
              "      <th>global_sentiment_polarity</th>\n",
              "      <th>global_rate_positive_words</th>\n",
              "      <th>global_rate_negative_words</th>\n",
              "      <th>rate_positive_words</th>\n",
              "      <th>rate_negative_words</th>\n",
              "      <th>avg_positive_polarity</th>\n",
              "      <th>min_positive_polarity</th>\n",
              "      <th>max_positive_polarity</th>\n",
              "      <th>avg_negative_polarity</th>\n",
              "      <th>min_negative_polarity</th>\n",
              "      <th>max_negative_polarity</th>\n",
              "      <th>title_subjectivity</th>\n",
              "      <th>title_sentiment_polarity</th>\n",
              "      <th>abs_title_subjectivity</th>\n",
              "      <th>abs_title_sentiment_polarity</th>\n",
              "      <th>shares</th>\n",
              "    </tr>\n",
              "  </thead>\n",
              "  <tbody>\n",
              "    <tr>\n",
              "      <th>count</th>\n",
              "      <td>39644.000000</td>\n",
              "      <td>39644.000000</td>\n",
              "      <td>39644.000000</td>\n",
              "      <td>39644.000000</td>\n",
              "      <td>39644.000000</td>\n",
              "      <td>39644.000000</td>\n",
              "      <td>39644.000000</td>\n",
              "      <td>39644.000000</td>\n",
              "      <td>39644.000000</td>\n",
              "      <td>39644.000000</td>\n",
              "      <td>39644.000000</td>\n",
              "      <td>39644.000000</td>\n",
              "      <td>39644.000000</td>\n",
              "      <td>39644.000000</td>\n",
              "      <td>39644.000000</td>\n",
              "      <td>39644.000000</td>\n",
              "      <td>39644.000000</td>\n",
              "      <td>39644.000000</td>\n",
              "      <td>39644.000000</td>\n",
              "      <td>39644.000000</td>\n",
              "      <td>39644.000000</td>\n",
              "      <td>39644.000000</td>\n",
              "      <td>39644.000000</td>\n",
              "      <td>39644.000000</td>\n",
              "      <td>39644.000000</td>\n",
              "      <td>39644.000000</td>\n",
              "      <td>39644.000000</td>\n",
              "      <td>39644.000000</td>\n",
              "      <td>39644.000000</td>\n",
              "      <td>39644.000000</td>\n",
              "      <td>39644.000000</td>\n",
              "      <td>39644.000000</td>\n",
              "      <td>39644.000000</td>\n",
              "      <td>39644.000000</td>\n",
              "      <td>39644.000000</td>\n",
              "      <td>39644.000000</td>\n",
              "      <td>39644.000000</td>\n",
              "      <td>39644.000000</td>\n",
              "      <td>39644.000000</td>\n",
              "      <td>39644.000000</td>\n",
              "      <td>39644.000000</td>\n",
              "      <td>39644.000000</td>\n",
              "      <td>39644.000000</td>\n",
              "      <td>39644.000000</td>\n",
              "      <td>39644.000000</td>\n",
              "      <td>39644.000000</td>\n",
              "      <td>39644.000000</td>\n",
              "      <td>39644.000000</td>\n",
              "      <td>39644.000000</td>\n",
              "      <td>39644.000000</td>\n",
              "      <td>39644.000000</td>\n",
              "      <td>39644.000000</td>\n",
              "      <td>39644.000000</td>\n",
              "      <td>39644.000000</td>\n",
              "      <td>39644.000000</td>\n",
              "      <td>39644.000000</td>\n",
              "      <td>39644.000000</td>\n",
              "      <td>39644.000000</td>\n",
              "      <td>39644.000000</td>\n",
              "      <td>39644.000000</td>\n",
              "    </tr>\n",
              "    <tr>\n",
              "      <th>mean</th>\n",
              "      <td>354.530471</td>\n",
              "      <td>10.398749</td>\n",
              "      <td>546.514731</td>\n",
              "      <td>0.548216</td>\n",
              "      <td>0.996469</td>\n",
              "      <td>0.689175</td>\n",
              "      <td>10.883690</td>\n",
              "      <td>3.293638</td>\n",
              "      <td>4.544143</td>\n",
              "      <td>1.249874</td>\n",
              "      <td>4.548239</td>\n",
              "      <td>7.223767</td>\n",
              "      <td>0.052946</td>\n",
              "      <td>0.178009</td>\n",
              "      <td>0.157855</td>\n",
              "      <td>0.058597</td>\n",
              "      <td>0.185299</td>\n",
              "      <td>0.212567</td>\n",
              "      <td>26.106801</td>\n",
              "      <td>1153.951682</td>\n",
              "      <td>312.366967</td>\n",
              "      <td>13612.354102</td>\n",
              "      <td>752324.066694</td>\n",
              "      <td>259281.938083</td>\n",
              "      <td>1117.146610</td>\n",
              "      <td>5657.211151</td>\n",
              "      <td>3135.858639</td>\n",
              "      <td>3998.755396</td>\n",
              "      <td>10329.212662</td>\n",
              "      <td>6401.697580</td>\n",
              "      <td>0.168020</td>\n",
              "      <td>0.186409</td>\n",
              "      <td>0.187544</td>\n",
              "      <td>0.183306</td>\n",
              "      <td>0.143805</td>\n",
              "      <td>0.061876</td>\n",
              "      <td>0.069039</td>\n",
              "      <td>0.130915</td>\n",
              "      <td>0.184599</td>\n",
              "      <td>0.141256</td>\n",
              "      <td>0.216321</td>\n",
              "      <td>0.223770</td>\n",
              "      <td>0.234029</td>\n",
              "      <td>0.443370</td>\n",
              "      <td>0.119309</td>\n",
              "      <td>0.039625</td>\n",
              "      <td>0.016612</td>\n",
              "      <td>0.682150</td>\n",
              "      <td>0.287934</td>\n",
              "      <td>0.353825</td>\n",
              "      <td>0.095446</td>\n",
              "      <td>0.756728</td>\n",
              "      <td>-0.259524</td>\n",
              "      <td>-0.521944</td>\n",
              "      <td>-0.107500</td>\n",
              "      <td>0.282353</td>\n",
              "      <td>0.071425</td>\n",
              "      <td>0.341843</td>\n",
              "      <td>0.156064</td>\n",
              "      <td>3395.380184</td>\n",
              "    </tr>\n",
              "    <tr>\n",
              "      <th>std</th>\n",
              "      <td>214.163767</td>\n",
              "      <td>2.114037</td>\n",
              "      <td>471.107508</td>\n",
              "      <td>3.520708</td>\n",
              "      <td>5.231231</td>\n",
              "      <td>3.264816</td>\n",
              "      <td>11.332017</td>\n",
              "      <td>3.855141</td>\n",
              "      <td>8.309434</td>\n",
              "      <td>4.107855</td>\n",
              "      <td>0.844406</td>\n",
              "      <td>1.909130</td>\n",
              "      <td>0.223929</td>\n",
              "      <td>0.382525</td>\n",
              "      <td>0.364610</td>\n",
              "      <td>0.234871</td>\n",
              "      <td>0.388545</td>\n",
              "      <td>0.409129</td>\n",
              "      <td>69.633215</td>\n",
              "      <td>3857.990877</td>\n",
              "      <td>620.783887</td>\n",
              "      <td>57986.029357</td>\n",
              "      <td>214502.129573</td>\n",
              "      <td>135102.247285</td>\n",
              "      <td>1137.456951</td>\n",
              "      <td>6098.871957</td>\n",
              "      <td>1318.150397</td>\n",
              "      <td>19738.670516</td>\n",
              "      <td>41027.576613</td>\n",
              "      <td>24211.332231</td>\n",
              "      <td>0.373889</td>\n",
              "      <td>0.389441</td>\n",
              "      <td>0.390353</td>\n",
              "      <td>0.386922</td>\n",
              "      <td>0.350896</td>\n",
              "      <td>0.240933</td>\n",
              "      <td>0.253524</td>\n",
              "      <td>0.337312</td>\n",
              "      <td>0.262975</td>\n",
              "      <td>0.219707</td>\n",
              "      <td>0.282145</td>\n",
              "      <td>0.295191</td>\n",
              "      <td>0.289183</td>\n",
              "      <td>0.116685</td>\n",
              "      <td>0.096931</td>\n",
              "      <td>0.017429</td>\n",
              "      <td>0.010828</td>\n",
              "      <td>0.190206</td>\n",
              "      <td>0.156156</td>\n",
              "      <td>0.104542</td>\n",
              "      <td>0.071315</td>\n",
              "      <td>0.247786</td>\n",
              "      <td>0.127726</td>\n",
              "      <td>0.290290</td>\n",
              "      <td>0.095373</td>\n",
              "      <td>0.324247</td>\n",
              "      <td>0.265450</td>\n",
              "      <td>0.188791</td>\n",
              "      <td>0.226294</td>\n",
              "      <td>11626.950749</td>\n",
              "    </tr>\n",
              "    <tr>\n",
              "      <th>min</th>\n",
              "      <td>8.000000</td>\n",
              "      <td>2.000000</td>\n",
              "      <td>0.000000</td>\n",
              "      <td>0.000000</td>\n",
              "      <td>0.000000</td>\n",
              "      <td>0.000000</td>\n",
              "      <td>0.000000</td>\n",
              "      <td>0.000000</td>\n",
              "      <td>0.000000</td>\n",
              "      <td>0.000000</td>\n",
              "      <td>0.000000</td>\n",
              "      <td>1.000000</td>\n",
              "      <td>0.000000</td>\n",
              "      <td>0.000000</td>\n",
              "      <td>0.000000</td>\n",
              "      <td>0.000000</td>\n",
              "      <td>0.000000</td>\n",
              "      <td>0.000000</td>\n",
              "      <td>-1.000000</td>\n",
              "      <td>0.000000</td>\n",
              "      <td>-1.000000</td>\n",
              "      <td>0.000000</td>\n",
              "      <td>0.000000</td>\n",
              "      <td>0.000000</td>\n",
              "      <td>-1.000000</td>\n",
              "      <td>0.000000</td>\n",
              "      <td>0.000000</td>\n",
              "      <td>0.000000</td>\n",
              "      <td>0.000000</td>\n",
              "      <td>0.000000</td>\n",
              "      <td>0.000000</td>\n",
              "      <td>0.000000</td>\n",
              "      <td>0.000000</td>\n",
              "      <td>0.000000</td>\n",
              "      <td>0.000000</td>\n",
              "      <td>0.000000</td>\n",
              "      <td>0.000000</td>\n",
              "      <td>0.000000</td>\n",
              "      <td>0.000000</td>\n",
              "      <td>0.000000</td>\n",
              "      <td>0.000000</td>\n",
              "      <td>0.000000</td>\n",
              "      <td>0.000000</td>\n",
              "      <td>0.000000</td>\n",
              "      <td>-0.393750</td>\n",
              "      <td>0.000000</td>\n",
              "      <td>0.000000</td>\n",
              "      <td>0.000000</td>\n",
              "      <td>0.000000</td>\n",
              "      <td>0.000000</td>\n",
              "      <td>0.000000</td>\n",
              "      <td>0.000000</td>\n",
              "      <td>-1.000000</td>\n",
              "      <td>-1.000000</td>\n",
              "      <td>-1.000000</td>\n",
              "      <td>0.000000</td>\n",
              "      <td>-1.000000</td>\n",
              "      <td>0.000000</td>\n",
              "      <td>0.000000</td>\n",
              "      <td>1.000000</td>\n",
              "    </tr>\n",
              "    <tr>\n",
              "      <th>25%</th>\n",
              "      <td>164.000000</td>\n",
              "      <td>9.000000</td>\n",
              "      <td>246.000000</td>\n",
              "      <td>0.470870</td>\n",
              "      <td>1.000000</td>\n",
              "      <td>0.625739</td>\n",
              "      <td>4.000000</td>\n",
              "      <td>1.000000</td>\n",
              "      <td>1.000000</td>\n",
              "      <td>0.000000</td>\n",
              "      <td>4.478404</td>\n",
              "      <td>6.000000</td>\n",
              "      <td>0.000000</td>\n",
              "      <td>0.000000</td>\n",
              "      <td>0.000000</td>\n",
              "      <td>0.000000</td>\n",
              "      <td>0.000000</td>\n",
              "      <td>0.000000</td>\n",
              "      <td>-1.000000</td>\n",
              "      <td>445.000000</td>\n",
              "      <td>141.750000</td>\n",
              "      <td>0.000000</td>\n",
              "      <td>843300.000000</td>\n",
              "      <td>172846.875000</td>\n",
              "      <td>0.000000</td>\n",
              "      <td>3562.101631</td>\n",
              "      <td>2382.448566</td>\n",
              "      <td>639.000000</td>\n",
              "      <td>1100.000000</td>\n",
              "      <td>981.187500</td>\n",
              "      <td>0.000000</td>\n",
              "      <td>0.000000</td>\n",
              "      <td>0.000000</td>\n",
              "      <td>0.000000</td>\n",
              "      <td>0.000000</td>\n",
              "      <td>0.000000</td>\n",
              "      <td>0.000000</td>\n",
              "      <td>0.000000</td>\n",
              "      <td>0.025051</td>\n",
              "      <td>0.025012</td>\n",
              "      <td>0.028571</td>\n",
              "      <td>0.028571</td>\n",
              "      <td>0.028574</td>\n",
              "      <td>0.396167</td>\n",
              "      <td>0.057757</td>\n",
              "      <td>0.028384</td>\n",
              "      <td>0.009615</td>\n",
              "      <td>0.600000</td>\n",
              "      <td>0.185185</td>\n",
              "      <td>0.306244</td>\n",
              "      <td>0.050000</td>\n",
              "      <td>0.600000</td>\n",
              "      <td>-0.328383</td>\n",
              "      <td>-0.700000</td>\n",
              "      <td>-0.125000</td>\n",
              "      <td>0.000000</td>\n",
              "      <td>0.000000</td>\n",
              "      <td>0.166667</td>\n",
              "      <td>0.000000</td>\n",
              "      <td>946.000000</td>\n",
              "    </tr>\n",
              "    <tr>\n",
              "      <th>50%</th>\n",
              "      <td>339.000000</td>\n",
              "      <td>10.000000</td>\n",
              "      <td>409.000000</td>\n",
              "      <td>0.539226</td>\n",
              "      <td>1.000000</td>\n",
              "      <td>0.690476</td>\n",
              "      <td>8.000000</td>\n",
              "      <td>3.000000</td>\n",
              "      <td>1.000000</td>\n",
              "      <td>0.000000</td>\n",
              "      <td>4.664082</td>\n",
              "      <td>7.000000</td>\n",
              "      <td>0.000000</td>\n",
              "      <td>0.000000</td>\n",
              "      <td>0.000000</td>\n",
              "      <td>0.000000</td>\n",
              "      <td>0.000000</td>\n",
              "      <td>0.000000</td>\n",
              "      <td>-1.000000</td>\n",
              "      <td>660.000000</td>\n",
              "      <td>235.500000</td>\n",
              "      <td>1400.000000</td>\n",
              "      <td>843300.000000</td>\n",
              "      <td>244572.222223</td>\n",
              "      <td>1023.635611</td>\n",
              "      <td>4355.688836</td>\n",
              "      <td>2870.074878</td>\n",
              "      <td>1200.000000</td>\n",
              "      <td>2800.000000</td>\n",
              "      <td>2200.000000</td>\n",
              "      <td>0.000000</td>\n",
              "      <td>0.000000</td>\n",
              "      <td>0.000000</td>\n",
              "      <td>0.000000</td>\n",
              "      <td>0.000000</td>\n",
              "      <td>0.000000</td>\n",
              "      <td>0.000000</td>\n",
              "      <td>0.000000</td>\n",
              "      <td>0.033387</td>\n",
              "      <td>0.033345</td>\n",
              "      <td>0.040004</td>\n",
              "      <td>0.040001</td>\n",
              "      <td>0.040727</td>\n",
              "      <td>0.453457</td>\n",
              "      <td>0.119117</td>\n",
              "      <td>0.039023</td>\n",
              "      <td>0.015337</td>\n",
              "      <td>0.710526</td>\n",
              "      <td>0.280000</td>\n",
              "      <td>0.358755</td>\n",
              "      <td>0.100000</td>\n",
              "      <td>0.800000</td>\n",
              "      <td>-0.253333</td>\n",
              "      <td>-0.500000</td>\n",
              "      <td>-0.100000</td>\n",
              "      <td>0.150000</td>\n",
              "      <td>0.000000</td>\n",
              "      <td>0.500000</td>\n",
              "      <td>0.000000</td>\n",
              "      <td>1400.000000</td>\n",
              "    </tr>\n",
              "    <tr>\n",
              "      <th>75%</th>\n",
              "      <td>542.000000</td>\n",
              "      <td>12.000000</td>\n",
              "      <td>716.000000</td>\n",
              "      <td>0.608696</td>\n",
              "      <td>1.000000</td>\n",
              "      <td>0.754630</td>\n",
              "      <td>14.000000</td>\n",
              "      <td>4.000000</td>\n",
              "      <td>4.000000</td>\n",
              "      <td>1.000000</td>\n",
              "      <td>4.854839</td>\n",
              "      <td>9.000000</td>\n",
              "      <td>0.000000</td>\n",
              "      <td>0.000000</td>\n",
              "      <td>0.000000</td>\n",
              "      <td>0.000000</td>\n",
              "      <td>0.000000</td>\n",
              "      <td>0.000000</td>\n",
              "      <td>4.000000</td>\n",
              "      <td>1000.000000</td>\n",
              "      <td>357.000000</td>\n",
              "      <td>7900.000000</td>\n",
              "      <td>843300.000000</td>\n",
              "      <td>330980.000000</td>\n",
              "      <td>2056.781032</td>\n",
              "      <td>6019.953968</td>\n",
              "      <td>3600.229564</td>\n",
              "      <td>2600.000000</td>\n",
              "      <td>8000.000000</td>\n",
              "      <td>5200.000000</td>\n",
              "      <td>0.000000</td>\n",
              "      <td>0.000000</td>\n",
              "      <td>0.000000</td>\n",
              "      <td>0.000000</td>\n",
              "      <td>0.000000</td>\n",
              "      <td>0.000000</td>\n",
              "      <td>0.000000</td>\n",
              "      <td>0.000000</td>\n",
              "      <td>0.240958</td>\n",
              "      <td>0.150831</td>\n",
              "      <td>0.334218</td>\n",
              "      <td>0.375763</td>\n",
              "      <td>0.399986</td>\n",
              "      <td>0.508333</td>\n",
              "      <td>0.177832</td>\n",
              "      <td>0.050279</td>\n",
              "      <td>0.021739</td>\n",
              "      <td>0.800000</td>\n",
              "      <td>0.384615</td>\n",
              "      <td>0.411428</td>\n",
              "      <td>0.100000</td>\n",
              "      <td>1.000000</td>\n",
              "      <td>-0.186905</td>\n",
              "      <td>-0.300000</td>\n",
              "      <td>-0.050000</td>\n",
              "      <td>0.500000</td>\n",
              "      <td>0.150000</td>\n",
              "      <td>0.500000</td>\n",
              "      <td>0.250000</td>\n",
              "      <td>2800.000000</td>\n",
              "    </tr>\n",
              "    <tr>\n",
              "      <th>max</th>\n",
              "      <td>731.000000</td>\n",
              "      <td>23.000000</td>\n",
              "      <td>8474.000000</td>\n",
              "      <td>701.000000</td>\n",
              "      <td>1042.000000</td>\n",
              "      <td>650.000000</td>\n",
              "      <td>304.000000</td>\n",
              "      <td>116.000000</td>\n",
              "      <td>128.000000</td>\n",
              "      <td>91.000000</td>\n",
              "      <td>8.041534</td>\n",
              "      <td>10.000000</td>\n",
              "      <td>1.000000</td>\n",
              "      <td>1.000000</td>\n",
              "      <td>1.000000</td>\n",
              "      <td>1.000000</td>\n",
              "      <td>1.000000</td>\n",
              "      <td>1.000000</td>\n",
              "      <td>377.000000</td>\n",
              "      <td>298400.000000</td>\n",
              "      <td>42827.857143</td>\n",
              "      <td>843300.000000</td>\n",
              "      <td>843300.000000</td>\n",
              "      <td>843300.000000</td>\n",
              "      <td>3613.039820</td>\n",
              "      <td>298400.000000</td>\n",
              "      <td>43567.659946</td>\n",
              "      <td>843300.000000</td>\n",
              "      <td>843300.000000</td>\n",
              "      <td>843300.000000</td>\n",
              "      <td>1.000000</td>\n",
              "      <td>1.000000</td>\n",
              "      <td>1.000000</td>\n",
              "      <td>1.000000</td>\n",
              "      <td>1.000000</td>\n",
              "      <td>1.000000</td>\n",
              "      <td>1.000000</td>\n",
              "      <td>1.000000</td>\n",
              "      <td>0.926994</td>\n",
              "      <td>0.925947</td>\n",
              "      <td>0.919999</td>\n",
              "      <td>0.926534</td>\n",
              "      <td>0.927191</td>\n",
              "      <td>1.000000</td>\n",
              "      <td>0.727841</td>\n",
              "      <td>0.155488</td>\n",
              "      <td>0.184932</td>\n",
              "      <td>1.000000</td>\n",
              "      <td>1.000000</td>\n",
              "      <td>1.000000</td>\n",
              "      <td>1.000000</td>\n",
              "      <td>1.000000</td>\n",
              "      <td>0.000000</td>\n",
              "      <td>0.000000</td>\n",
              "      <td>0.000000</td>\n",
              "      <td>1.000000</td>\n",
              "      <td>1.000000</td>\n",
              "      <td>0.500000</td>\n",
              "      <td>1.000000</td>\n",
              "      <td>843300.000000</td>\n",
              "    </tr>\n",
              "  </tbody>\n",
              "</table>\n",
              "</div>"
            ],
            "text/plain": [
              "          timedelta  ...         shares\n",
              "count  39644.000000  ...   39644.000000\n",
              "mean     354.530471  ...    3395.380184\n",
              "std      214.163767  ...   11626.950749\n",
              "min        8.000000  ...       1.000000\n",
              "25%      164.000000  ...     946.000000\n",
              "50%      339.000000  ...    1400.000000\n",
              "75%      542.000000  ...    2800.000000\n",
              "max      731.000000  ...  843300.000000\n",
              "\n",
              "[8 rows x 60 columns]"
            ]
          },
          "metadata": {
            "tags": []
          },
          "execution_count": 15
        }
      ]
    },
    {
      "cell_type": "code",
      "metadata": {
        "id": "YoIU3ubZKYS5",
        "colab_type": "code",
        "outputId": "51164f1b-1fe5-4e21-b064-f25ffd9cec30",
        "colab": {
          "base_uri": "https://localhost:8080/",
          "height": 218
        }
      },
      "source": [
        "data.isnull().any()\n"
      ],
      "execution_count": 0,
      "outputs": [
        {
          "output_type": "execute_result",
          "data": {
            "text/plain": [
              "url                              False\n",
              " timedelta                       False\n",
              " n_tokens_title                  False\n",
              " n_tokens_content                False\n",
              " n_unique_tokens                 False\n",
              "                                 ...  \n",
              " title_subjectivity              False\n",
              " title_sentiment_polarity        False\n",
              " abs_title_subjectivity          False\n",
              " abs_title_sentiment_polarity    False\n",
              " shares                          False\n",
              "Length: 61, dtype: bool"
            ]
          },
          "metadata": {
            "tags": []
          },
          "execution_count": 16
        }
      ]
    },
    {
      "cell_type": "code",
      "metadata": {
        "id": "UD95zEtGKapg",
        "colab_type": "code",
        "outputId": "acb329d0-a028-493e-baf9-6e346ba69a28",
        "colab": {
          "base_uri": "https://localhost:8080/",
          "height": 218
        }
      },
      "source": [
        "data.dtypes\n"
      ],
      "execution_count": 0,
      "outputs": [
        {
          "output_type": "execute_result",
          "data": {
            "text/plain": [
              "url                               object\n",
              " timedelta                       float64\n",
              " n_tokens_title                  float64\n",
              " n_tokens_content                float64\n",
              " n_unique_tokens                 float64\n",
              "                                  ...   \n",
              " title_subjectivity              float64\n",
              " title_sentiment_polarity        float64\n",
              " abs_title_subjectivity          float64\n",
              " abs_title_sentiment_polarity    float64\n",
              " shares                            int64\n",
              "Length: 61, dtype: object"
            ]
          },
          "metadata": {
            "tags": []
          },
          "execution_count": 17
        }
      ]
    },
    {
      "cell_type": "code",
      "metadata": {
        "id": "DURcnH4uKdMU",
        "colab_type": "code",
        "colab": {}
      },
      "source": [
        "x=data.drop([' shares','url', ' weekday_is_monday', ' weekday_is_tuesday', ' weekday_is_wednesday', ' weekday_is_thursday', ' weekday_is_friday', ' weekday_is_saturday', ' weekday_is_sunday'   \n",
        "  ], axis=1)\n"
      ],
      "execution_count": 0,
      "outputs": []
    },
    {
      "cell_type": "code",
      "metadata": {
        "id": "7nAQuQ1PKhRh",
        "colab_type": "code",
        "outputId": "ee3ff734-ac68-4d37-d8b8-5ebb3645f6cd",
        "colab": {
          "base_uri": "https://localhost:8080/",
          "height": 34
        }
      },
      "source": [
        "x.shape"
      ],
      "execution_count": 0,
      "outputs": [
        {
          "output_type": "execute_result",
          "data": {
            "text/plain": [
              "(39644, 52)"
            ]
          },
          "metadata": {
            "tags": []
          },
          "execution_count": 19
        }
      ]
    },
    {
      "cell_type": "code",
      "metadata": {
        "id": "Tj3kdJvQKj7O",
        "colab_type": "code",
        "outputId": "fe63bc3f-baf8-49d9-f52a-6ccbe4ea69e4",
        "colab": {
          "base_uri": "https://localhost:8080/",
          "height": 215
        }
      },
      "source": [
        "x.head()"
      ],
      "execution_count": 0,
      "outputs": [
        {
          "output_type": "execute_result",
          "data": {
            "text/html": [
              "<div>\n",
              "<style scoped>\n",
              "    .dataframe tbody tr th:only-of-type {\n",
              "        vertical-align: middle;\n",
              "    }\n",
              "\n",
              "    .dataframe tbody tr th {\n",
              "        vertical-align: top;\n",
              "    }\n",
              "\n",
              "    .dataframe thead th {\n",
              "        text-align: right;\n",
              "    }\n",
              "</style>\n",
              "<table border=\"1\" class=\"dataframe\">\n",
              "  <thead>\n",
              "    <tr style=\"text-align: right;\">\n",
              "      <th></th>\n",
              "      <th>timedelta</th>\n",
              "      <th>n_tokens_title</th>\n",
              "      <th>n_tokens_content</th>\n",
              "      <th>n_unique_tokens</th>\n",
              "      <th>n_non_stop_words</th>\n",
              "      <th>n_non_stop_unique_tokens</th>\n",
              "      <th>num_hrefs</th>\n",
              "      <th>num_self_hrefs</th>\n",
              "      <th>num_imgs</th>\n",
              "      <th>num_videos</th>\n",
              "      <th>average_token_length</th>\n",
              "      <th>num_keywords</th>\n",
              "      <th>data_channel_is_lifestyle</th>\n",
              "      <th>data_channel_is_entertainment</th>\n",
              "      <th>data_channel_is_bus</th>\n",
              "      <th>data_channel_is_socmed</th>\n",
              "      <th>data_channel_is_tech</th>\n",
              "      <th>data_channel_is_world</th>\n",
              "      <th>kw_min_min</th>\n",
              "      <th>kw_max_min</th>\n",
              "      <th>kw_avg_min</th>\n",
              "      <th>kw_min_max</th>\n",
              "      <th>kw_max_max</th>\n",
              "      <th>kw_avg_max</th>\n",
              "      <th>kw_min_avg</th>\n",
              "      <th>kw_max_avg</th>\n",
              "      <th>kw_avg_avg</th>\n",
              "      <th>self_reference_min_shares</th>\n",
              "      <th>self_reference_max_shares</th>\n",
              "      <th>self_reference_avg_sharess</th>\n",
              "      <th>is_weekend</th>\n",
              "      <th>LDA_00</th>\n",
              "      <th>LDA_01</th>\n",
              "      <th>LDA_02</th>\n",
              "      <th>LDA_03</th>\n",
              "      <th>LDA_04</th>\n",
              "      <th>global_subjectivity</th>\n",
              "      <th>global_sentiment_polarity</th>\n",
              "      <th>global_rate_positive_words</th>\n",
              "      <th>global_rate_negative_words</th>\n",
              "      <th>rate_positive_words</th>\n",
              "      <th>rate_negative_words</th>\n",
              "      <th>avg_positive_polarity</th>\n",
              "      <th>min_positive_polarity</th>\n",
              "      <th>max_positive_polarity</th>\n",
              "      <th>avg_negative_polarity</th>\n",
              "      <th>min_negative_polarity</th>\n",
              "      <th>max_negative_polarity</th>\n",
              "      <th>title_subjectivity</th>\n",
              "      <th>title_sentiment_polarity</th>\n",
              "      <th>abs_title_subjectivity</th>\n",
              "      <th>abs_title_sentiment_polarity</th>\n",
              "    </tr>\n",
              "  </thead>\n",
              "  <tbody>\n",
              "    <tr>\n",
              "      <th>0</th>\n",
              "      <td>731.0</td>\n",
              "      <td>12.0</td>\n",
              "      <td>219.0</td>\n",
              "      <td>0.663594</td>\n",
              "      <td>1.0</td>\n",
              "      <td>0.815385</td>\n",
              "      <td>4.0</td>\n",
              "      <td>2.0</td>\n",
              "      <td>1.0</td>\n",
              "      <td>0.0</td>\n",
              "      <td>4.680365</td>\n",
              "      <td>5.0</td>\n",
              "      <td>0.0</td>\n",
              "      <td>1.0</td>\n",
              "      <td>0.0</td>\n",
              "      <td>0.0</td>\n",
              "      <td>0.0</td>\n",
              "      <td>0.0</td>\n",
              "      <td>0.0</td>\n",
              "      <td>0.0</td>\n",
              "      <td>0.0</td>\n",
              "      <td>0.0</td>\n",
              "      <td>0.0</td>\n",
              "      <td>0.0</td>\n",
              "      <td>0.0</td>\n",
              "      <td>0.0</td>\n",
              "      <td>0.0</td>\n",
              "      <td>496.0</td>\n",
              "      <td>496.0</td>\n",
              "      <td>496.000000</td>\n",
              "      <td>0.0</td>\n",
              "      <td>0.500331</td>\n",
              "      <td>0.378279</td>\n",
              "      <td>0.040005</td>\n",
              "      <td>0.041263</td>\n",
              "      <td>0.040123</td>\n",
              "      <td>0.521617</td>\n",
              "      <td>0.092562</td>\n",
              "      <td>0.045662</td>\n",
              "      <td>0.013699</td>\n",
              "      <td>0.769231</td>\n",
              "      <td>0.230769</td>\n",
              "      <td>0.378636</td>\n",
              "      <td>0.100000</td>\n",
              "      <td>0.7</td>\n",
              "      <td>-0.350000</td>\n",
              "      <td>-0.600</td>\n",
              "      <td>-0.200000</td>\n",
              "      <td>0.500000</td>\n",
              "      <td>-0.187500</td>\n",
              "      <td>0.000000</td>\n",
              "      <td>0.187500</td>\n",
              "    </tr>\n",
              "    <tr>\n",
              "      <th>1</th>\n",
              "      <td>731.0</td>\n",
              "      <td>9.0</td>\n",
              "      <td>255.0</td>\n",
              "      <td>0.604743</td>\n",
              "      <td>1.0</td>\n",
              "      <td>0.791946</td>\n",
              "      <td>3.0</td>\n",
              "      <td>1.0</td>\n",
              "      <td>1.0</td>\n",
              "      <td>0.0</td>\n",
              "      <td>4.913725</td>\n",
              "      <td>4.0</td>\n",
              "      <td>0.0</td>\n",
              "      <td>0.0</td>\n",
              "      <td>1.0</td>\n",
              "      <td>0.0</td>\n",
              "      <td>0.0</td>\n",
              "      <td>0.0</td>\n",
              "      <td>0.0</td>\n",
              "      <td>0.0</td>\n",
              "      <td>0.0</td>\n",
              "      <td>0.0</td>\n",
              "      <td>0.0</td>\n",
              "      <td>0.0</td>\n",
              "      <td>0.0</td>\n",
              "      <td>0.0</td>\n",
              "      <td>0.0</td>\n",
              "      <td>0.0</td>\n",
              "      <td>0.0</td>\n",
              "      <td>0.000000</td>\n",
              "      <td>0.0</td>\n",
              "      <td>0.799756</td>\n",
              "      <td>0.050047</td>\n",
              "      <td>0.050096</td>\n",
              "      <td>0.050101</td>\n",
              "      <td>0.050001</td>\n",
              "      <td>0.341246</td>\n",
              "      <td>0.148948</td>\n",
              "      <td>0.043137</td>\n",
              "      <td>0.015686</td>\n",
              "      <td>0.733333</td>\n",
              "      <td>0.266667</td>\n",
              "      <td>0.286915</td>\n",
              "      <td>0.033333</td>\n",
              "      <td>0.7</td>\n",
              "      <td>-0.118750</td>\n",
              "      <td>-0.125</td>\n",
              "      <td>-0.100000</td>\n",
              "      <td>0.000000</td>\n",
              "      <td>0.000000</td>\n",
              "      <td>0.500000</td>\n",
              "      <td>0.000000</td>\n",
              "    </tr>\n",
              "    <tr>\n",
              "      <th>2</th>\n",
              "      <td>731.0</td>\n",
              "      <td>9.0</td>\n",
              "      <td>211.0</td>\n",
              "      <td>0.575130</td>\n",
              "      <td>1.0</td>\n",
              "      <td>0.663866</td>\n",
              "      <td>3.0</td>\n",
              "      <td>1.0</td>\n",
              "      <td>1.0</td>\n",
              "      <td>0.0</td>\n",
              "      <td>4.393365</td>\n",
              "      <td>6.0</td>\n",
              "      <td>0.0</td>\n",
              "      <td>0.0</td>\n",
              "      <td>1.0</td>\n",
              "      <td>0.0</td>\n",
              "      <td>0.0</td>\n",
              "      <td>0.0</td>\n",
              "      <td>0.0</td>\n",
              "      <td>0.0</td>\n",
              "      <td>0.0</td>\n",
              "      <td>0.0</td>\n",
              "      <td>0.0</td>\n",
              "      <td>0.0</td>\n",
              "      <td>0.0</td>\n",
              "      <td>0.0</td>\n",
              "      <td>0.0</td>\n",
              "      <td>918.0</td>\n",
              "      <td>918.0</td>\n",
              "      <td>918.000000</td>\n",
              "      <td>0.0</td>\n",
              "      <td>0.217792</td>\n",
              "      <td>0.033334</td>\n",
              "      <td>0.033351</td>\n",
              "      <td>0.033334</td>\n",
              "      <td>0.682188</td>\n",
              "      <td>0.702222</td>\n",
              "      <td>0.323333</td>\n",
              "      <td>0.056872</td>\n",
              "      <td>0.009479</td>\n",
              "      <td>0.857143</td>\n",
              "      <td>0.142857</td>\n",
              "      <td>0.495833</td>\n",
              "      <td>0.100000</td>\n",
              "      <td>1.0</td>\n",
              "      <td>-0.466667</td>\n",
              "      <td>-0.800</td>\n",
              "      <td>-0.133333</td>\n",
              "      <td>0.000000</td>\n",
              "      <td>0.000000</td>\n",
              "      <td>0.500000</td>\n",
              "      <td>0.000000</td>\n",
              "    </tr>\n",
              "    <tr>\n",
              "      <th>3</th>\n",
              "      <td>731.0</td>\n",
              "      <td>9.0</td>\n",
              "      <td>531.0</td>\n",
              "      <td>0.503788</td>\n",
              "      <td>1.0</td>\n",
              "      <td>0.665635</td>\n",
              "      <td>9.0</td>\n",
              "      <td>0.0</td>\n",
              "      <td>1.0</td>\n",
              "      <td>0.0</td>\n",
              "      <td>4.404896</td>\n",
              "      <td>7.0</td>\n",
              "      <td>0.0</td>\n",
              "      <td>1.0</td>\n",
              "      <td>0.0</td>\n",
              "      <td>0.0</td>\n",
              "      <td>0.0</td>\n",
              "      <td>0.0</td>\n",
              "      <td>0.0</td>\n",
              "      <td>0.0</td>\n",
              "      <td>0.0</td>\n",
              "      <td>0.0</td>\n",
              "      <td>0.0</td>\n",
              "      <td>0.0</td>\n",
              "      <td>0.0</td>\n",
              "      <td>0.0</td>\n",
              "      <td>0.0</td>\n",
              "      <td>0.0</td>\n",
              "      <td>0.0</td>\n",
              "      <td>0.000000</td>\n",
              "      <td>0.0</td>\n",
              "      <td>0.028573</td>\n",
              "      <td>0.419300</td>\n",
              "      <td>0.494651</td>\n",
              "      <td>0.028905</td>\n",
              "      <td>0.028572</td>\n",
              "      <td>0.429850</td>\n",
              "      <td>0.100705</td>\n",
              "      <td>0.041431</td>\n",
              "      <td>0.020716</td>\n",
              "      <td>0.666667</td>\n",
              "      <td>0.333333</td>\n",
              "      <td>0.385965</td>\n",
              "      <td>0.136364</td>\n",
              "      <td>0.8</td>\n",
              "      <td>-0.369697</td>\n",
              "      <td>-0.600</td>\n",
              "      <td>-0.166667</td>\n",
              "      <td>0.000000</td>\n",
              "      <td>0.000000</td>\n",
              "      <td>0.500000</td>\n",
              "      <td>0.000000</td>\n",
              "    </tr>\n",
              "    <tr>\n",
              "      <th>4</th>\n",
              "      <td>731.0</td>\n",
              "      <td>13.0</td>\n",
              "      <td>1072.0</td>\n",
              "      <td>0.415646</td>\n",
              "      <td>1.0</td>\n",
              "      <td>0.540890</td>\n",
              "      <td>19.0</td>\n",
              "      <td>19.0</td>\n",
              "      <td>20.0</td>\n",
              "      <td>0.0</td>\n",
              "      <td>4.682836</td>\n",
              "      <td>7.0</td>\n",
              "      <td>0.0</td>\n",
              "      <td>0.0</td>\n",
              "      <td>0.0</td>\n",
              "      <td>0.0</td>\n",
              "      <td>1.0</td>\n",
              "      <td>0.0</td>\n",
              "      <td>0.0</td>\n",
              "      <td>0.0</td>\n",
              "      <td>0.0</td>\n",
              "      <td>0.0</td>\n",
              "      <td>0.0</td>\n",
              "      <td>0.0</td>\n",
              "      <td>0.0</td>\n",
              "      <td>0.0</td>\n",
              "      <td>0.0</td>\n",
              "      <td>545.0</td>\n",
              "      <td>16000.0</td>\n",
              "      <td>3151.157895</td>\n",
              "      <td>0.0</td>\n",
              "      <td>0.028633</td>\n",
              "      <td>0.028794</td>\n",
              "      <td>0.028575</td>\n",
              "      <td>0.028572</td>\n",
              "      <td>0.885427</td>\n",
              "      <td>0.513502</td>\n",
              "      <td>0.281003</td>\n",
              "      <td>0.074627</td>\n",
              "      <td>0.012127</td>\n",
              "      <td>0.860215</td>\n",
              "      <td>0.139785</td>\n",
              "      <td>0.411127</td>\n",
              "      <td>0.033333</td>\n",
              "      <td>1.0</td>\n",
              "      <td>-0.220192</td>\n",
              "      <td>-0.500</td>\n",
              "      <td>-0.050000</td>\n",
              "      <td>0.454545</td>\n",
              "      <td>0.136364</td>\n",
              "      <td>0.045455</td>\n",
              "      <td>0.136364</td>\n",
              "    </tr>\n",
              "  </tbody>\n",
              "</table>\n",
              "</div>"
            ],
            "text/plain": [
              "    timedelta  ...   abs_title_sentiment_polarity\n",
              "0       731.0  ...                       0.187500\n",
              "1       731.0  ...                       0.000000\n",
              "2       731.0  ...                       0.000000\n",
              "3       731.0  ...                       0.000000\n",
              "4       731.0  ...                       0.136364\n",
              "\n",
              "[5 rows x 52 columns]"
            ]
          },
          "metadata": {
            "tags": []
          },
          "execution_count": 22
        }
      ]
    },
    {
      "cell_type": "code",
      "metadata": {
        "id": "OSi_Zu3MKliC",
        "colab_type": "code",
        "colab": {}
      },
      "source": [
        "Declare the Y that is Target.¶\n",
        "Using attribute Shares as the target.\n",
        "Analysing the Shares attributeabs\n"
      ],
      "execution_count": 0,
      "outputs": []
    },
    {
      "cell_type": "code",
      "metadata": {
        "id": "7_dAE1X5Kv9h",
        "colab_type": "code",
        "outputId": "8a0c1800-3914-4442-e10d-6e47da7f7f01",
        "colab": {
          "base_uri": "https://localhost:8080/",
          "height": 265
        }
      },
      "source": [
        "plt.hist(data[' shares'])\n",
        "plt.show()\n"
      ],
      "execution_count": 0,
      "outputs": [
        {
          "output_type": "display_data",
          "data": {
            "image/png": "[encoded data removed]",
            "text/plain": [
              "<Figure size 432x288 with 1 Axes>"
            ]
          },
          "metadata": {
            "tags": []
          }
        }
      ]
    },
    {
      "cell_type": "markdown",
      "metadata": {
        "id": "OEN5MiUQK1yp",
        "colab_type": "text"
      },
      "source": [
        "Since the data is highly skewed we are using Log Transformation to make data less skewed.This can be valuable both for making patterns in the data more interpretable and for helping to meet the assumptions of inferential statistics.\n",
        "\n"
      ]
    },
    {
      "cell_type": "code",
      "metadata": {
        "id": "rtFsgEQ_KzUr",
        "colab_type": "code",
        "outputId": "da8995c3-56cc-41f2-eefa-e3918d0246a8",
        "colab": {
          "base_uri": "https://localhost:8080/",
          "height": 265
        }
      },
      "source": [
        "plt.hist(np.log10(data[' shares']))\n",
        "plt.show()\n"
      ],
      "execution_count": 0,
      "outputs": [
        {
          "output_type": "display_data",
          "data": {
            "image/png": "[encoded data removed]",
            "text/plain": [
              "<Figure size 432x288 with 1 Axes>"
            ]
          },
          "metadata": {
            "tags": []
          }
        }
      ]
    },
    {
      "cell_type": "markdown",
      "metadata": {
        "id": "AJI1Fb43K8rJ",
        "colab_type": "text"
      },
      "source": [
        "Understanding the Shares data is to interpret into two sections¶\n"
      ]
    },
    {
      "cell_type": "code",
      "metadata": {
        "id": "EGZCuP4HK5IO",
        "colab_type": "code",
        "outputId": "d5a15dba-9598-4ce0-ecc8-208a5185a2c5",
        "colab": {
          "base_uri": "https://localhost:8080/",
          "height": 168
        }
      },
      "source": [
        "np.log10(data[' shares']).describe()\n"
      ],
      "execution_count": 0,
      "outputs": [
        {
          "output_type": "execute_result",
          "data": {
            "text/plain": [
              "count    39644.000000\n",
              "mean         3.246288\n",
              "std          0.404105\n",
              "min          0.000000\n",
              "25%          2.975891\n",
              "50%          3.146128\n",
              "75%          3.447158\n",
              "max          5.925982\n",
              "Name:  shares, dtype: float64"
            ]
          },
          "metadata": {
            "tags": []
          },
          "execution_count": 25
        }
      ]
    },
    {
      "cell_type": "markdown",
      "metadata": {
        "id": "nhbGMZ_7LE1W",
        "colab_type": "text"
      },
      "source": [
        "\n",
        "\n",
        "Creating a new attribute as Category to be used as Target attribute\n",
        "The Columns are identified as either 1 or 2 on following basis\n",
        "Category 1 - the news artical that are shared less then 50% that is less than value 3 - Article is not much popular\n",
        "Category 2 - the news artical that are shared more then 50% that is more than value 3 - Article is very popular\n"
      ]
    },
    {
      "cell_type": "code",
      "metadata": {
        "id": "eCVNDJ_7LHE0",
        "colab_type": "code",
        "colab": {}
      },
      "source": [
        "data_class = np.log10(data[' shares'])\n",
        "data['category'] = (data_class<=3)*1 | (data_class>3)*2\n"
      ],
      "execution_count": 0,
      "outputs": []
    },
    {
      "cell_type": "code",
      "metadata": {
        "id": "XMEJ1lx3LNGJ",
        "colab_type": "code",
        "outputId": "77be25fc-217b-4ac2-98b2-936b14bc4ca0",
        "colab": {
          "base_uri": "https://localhost:8080/",
          "height": 265
        }
      },
      "source": [
        "plt.hist(data['category'])\n",
        "plt.show()\n"
      ],
      "execution_count": 0,
      "outputs": [
        {
          "output_type": "display_data",
          "data": {
            "image/png": "[encoded data removed]",
            "text/plain": [
              "<Figure size 432x288 with 1 Axes>"
            ]
          },
          "metadata": {
            "tags": []
          }
        }
      ]
    },
    {
      "cell_type": "code",
      "metadata": {
        "id": "6MJPyA9NLPfn",
        "colab_type": "code",
        "outputId": "775e4e0e-e07b-4f8b-c6b2-cbeaf62ca568",
        "colab": {
          "base_uri": "https://localhost:8080/",
          "height": 160
        }
      },
      "source": [
        "data.head(2)\n"
      ],
      "execution_count": 0,
      "outputs": [
        {
          "output_type": "execute_result",
          "data": {
            "text/html": [
              "<div>\n",
              "<style scoped>\n",
              "    .dataframe tbody tr th:only-of-type {\n",
              "        vertical-align: middle;\n",
              "    }\n",
              "\n",
              "    .dataframe tbody tr th {\n",
              "        vertical-align: top;\n",
              "    }\n",
              "\n",
              "    .dataframe thead th {\n",
              "        text-align: right;\n",
              "    }\n",
              "</style>\n",
              "<table border=\"1\" class=\"dataframe\">\n",
              "  <thead>\n",
              "    <tr style=\"text-align: right;\">\n",
              "      <th></th>\n",
              "      <th>url</th>\n",
              "      <th>timedelta</th>\n",
              "      <th>n_tokens_title</th>\n",
              "      <th>n_tokens_content</th>\n",
              "      <th>n_unique_tokens</th>\n",
              "      <th>n_non_stop_words</th>\n",
              "      <th>n_non_stop_unique_tokens</th>\n",
              "      <th>num_hrefs</th>\n",
              "      <th>num_self_hrefs</th>\n",
              "      <th>num_imgs</th>\n",
              "      <th>num_videos</th>\n",
              "      <th>average_token_length</th>\n",
              "      <th>num_keywords</th>\n",
              "      <th>data_channel_is_lifestyle</th>\n",
              "      <th>data_channel_is_entertainment</th>\n",
              "      <th>data_channel_is_bus</th>\n",
              "      <th>data_channel_is_socmed</th>\n",
              "      <th>data_channel_is_tech</th>\n",
              "      <th>data_channel_is_world</th>\n",
              "      <th>kw_min_min</th>\n",
              "      <th>kw_max_min</th>\n",
              "      <th>kw_avg_min</th>\n",
              "      <th>kw_min_max</th>\n",
              "      <th>kw_max_max</th>\n",
              "      <th>kw_avg_max</th>\n",
              "      <th>kw_min_avg</th>\n",
              "      <th>kw_max_avg</th>\n",
              "      <th>kw_avg_avg</th>\n",
              "      <th>self_reference_min_shares</th>\n",
              "      <th>self_reference_max_shares</th>\n",
              "      <th>self_reference_avg_sharess</th>\n",
              "      <th>weekday_is_monday</th>\n",
              "      <th>weekday_is_tuesday</th>\n",
              "      <th>weekday_is_wednesday</th>\n",
              "      <th>weekday_is_thursday</th>\n",
              "      <th>weekday_is_friday</th>\n",
              "      <th>weekday_is_saturday</th>\n",
              "      <th>weekday_is_sunday</th>\n",
              "      <th>is_weekend</th>\n",
              "      <th>LDA_00</th>\n",
              "      <th>LDA_01</th>\n",
              "      <th>LDA_02</th>\n",
              "      <th>LDA_03</th>\n",
              "      <th>LDA_04</th>\n",
              "      <th>global_subjectivity</th>\n",
              "      <th>global_sentiment_polarity</th>\n",
              "      <th>global_rate_positive_words</th>\n",
              "      <th>global_rate_negative_words</th>\n",
              "      <th>rate_positive_words</th>\n",
              "      <th>rate_negative_words</th>\n",
              "      <th>avg_positive_polarity</th>\n",
              "      <th>min_positive_polarity</th>\n",
              "      <th>max_positive_polarity</th>\n",
              "      <th>avg_negative_polarity</th>\n",
              "      <th>min_negative_polarity</th>\n",
              "      <th>max_negative_polarity</th>\n",
              "      <th>title_subjectivity</th>\n",
              "      <th>title_sentiment_polarity</th>\n",
              "      <th>abs_title_subjectivity</th>\n",
              "      <th>abs_title_sentiment_polarity</th>\n",
              "      <th>shares</th>\n",
              "      <th>category</th>\n",
              "    </tr>\n",
              "  </thead>\n",
              "  <tbody>\n",
              "    <tr>\n",
              "      <th>0</th>\n",
              "      <td>http://mashable.com/2013/01/07/amazon-instant-...</td>\n",
              "      <td>731.0</td>\n",
              "      <td>12.0</td>\n",
              "      <td>219.0</td>\n",
              "      <td>0.663594</td>\n",
              "      <td>1.0</td>\n",
              "      <td>0.815385</td>\n",
              "      <td>4.0</td>\n",
              "      <td>2.0</td>\n",
              "      <td>1.0</td>\n",
              "      <td>0.0</td>\n",
              "      <td>4.680365</td>\n",
              "      <td>5.0</td>\n",
              "      <td>0.0</td>\n",
              "      <td>1.0</td>\n",
              "      <td>0.0</td>\n",
              "      <td>0.0</td>\n",
              "      <td>0.0</td>\n",
              "      <td>0.0</td>\n",
              "      <td>0.0</td>\n",
              "      <td>0.0</td>\n",
              "      <td>0.0</td>\n",
              "      <td>0.0</td>\n",
              "      <td>0.0</td>\n",
              "      <td>0.0</td>\n",
              "      <td>0.0</td>\n",
              "      <td>0.0</td>\n",
              "      <td>0.0</td>\n",
              "      <td>496.0</td>\n",
              "      <td>496.0</td>\n",
              "      <td>496.0</td>\n",
              "      <td>1.0</td>\n",
              "      <td>0.0</td>\n",
              "      <td>0.0</td>\n",
              "      <td>0.0</td>\n",
              "      <td>0.0</td>\n",
              "      <td>0.0</td>\n",
              "      <td>0.0</td>\n",
              "      <td>0.0</td>\n",
              "      <td>0.500331</td>\n",
              "      <td>0.378279</td>\n",
              "      <td>0.040005</td>\n",
              "      <td>0.041263</td>\n",
              "      <td>0.040123</td>\n",
              "      <td>0.521617</td>\n",
              "      <td>0.092562</td>\n",
              "      <td>0.045662</td>\n",
              "      <td>0.013699</td>\n",
              "      <td>0.769231</td>\n",
              "      <td>0.230769</td>\n",
              "      <td>0.378636</td>\n",
              "      <td>0.100000</td>\n",
              "      <td>0.7</td>\n",
              "      <td>-0.35000</td>\n",
              "      <td>-0.600</td>\n",
              "      <td>-0.2</td>\n",
              "      <td>0.5</td>\n",
              "      <td>-0.1875</td>\n",
              "      <td>0.0</td>\n",
              "      <td>0.1875</td>\n",
              "      <td>593</td>\n",
              "      <td>1</td>\n",
              "    </tr>\n",
              "    <tr>\n",
              "      <th>1</th>\n",
              "      <td>http://mashable.com/2013/01/07/ap-samsung-spon...</td>\n",
              "      <td>731.0</td>\n",
              "      <td>9.0</td>\n",
              "      <td>255.0</td>\n",
              "      <td>0.604743</td>\n",
              "      <td>1.0</td>\n",
              "      <td>0.791946</td>\n",
              "      <td>3.0</td>\n",
              "      <td>1.0</td>\n",
              "      <td>1.0</td>\n",
              "      <td>0.0</td>\n",
              "      <td>4.913725</td>\n",
              "      <td>4.0</td>\n",
              "      <td>0.0</td>\n",
              "      <td>0.0</td>\n",
              "      <td>1.0</td>\n",
              "      <td>0.0</td>\n",
              "      <td>0.0</td>\n",
              "      <td>0.0</td>\n",
              "      <td>0.0</td>\n",
              "      <td>0.0</td>\n",
              "      <td>0.0</td>\n",
              "      <td>0.0</td>\n",
              "      <td>0.0</td>\n",
              "      <td>0.0</td>\n",
              "      <td>0.0</td>\n",
              "      <td>0.0</td>\n",
              "      <td>0.0</td>\n",
              "      <td>0.0</td>\n",
              "      <td>0.0</td>\n",
              "      <td>0.0</td>\n",
              "      <td>1.0</td>\n",
              "      <td>0.0</td>\n",
              "      <td>0.0</td>\n",
              "      <td>0.0</td>\n",
              "      <td>0.0</td>\n",
              "      <td>0.0</td>\n",
              "      <td>0.0</td>\n",
              "      <td>0.0</td>\n",
              "      <td>0.799756</td>\n",
              "      <td>0.050047</td>\n",
              "      <td>0.050096</td>\n",
              "      <td>0.050101</td>\n",
              "      <td>0.050001</td>\n",
              "      <td>0.341246</td>\n",
              "      <td>0.148948</td>\n",
              "      <td>0.043137</td>\n",
              "      <td>0.015686</td>\n",
              "      <td>0.733333</td>\n",
              "      <td>0.266667</td>\n",
              "      <td>0.286915</td>\n",
              "      <td>0.033333</td>\n",
              "      <td>0.7</td>\n",
              "      <td>-0.11875</td>\n",
              "      <td>-0.125</td>\n",
              "      <td>-0.1</td>\n",
              "      <td>0.0</td>\n",
              "      <td>0.0000</td>\n",
              "      <td>0.5</td>\n",
              "      <td>0.0000</td>\n",
              "      <td>711</td>\n",
              "      <td>1</td>\n",
              "    </tr>\n",
              "  </tbody>\n",
              "</table>\n",
              "</div>"
            ],
            "text/plain": [
              "                                                 url  ...  category\n",
              "0  http://mashable.com/2013/01/07/amazon-instant-...  ...         1\n",
              "1  http://mashable.com/2013/01/07/ap-samsung-spon...  ...         1\n",
              "\n",
              "[2 rows x 62 columns]"
            ]
          },
          "metadata": {
            "tags": []
          },
          "execution_count": 28
        }
      ]
    },
    {
      "cell_type": "code",
      "metadata": {
        "id": "ZdBTqqsuLRXh",
        "colab_type": "code",
        "outputId": "1786c528-b0ed-47cb-fc1a-9786d675cf5b",
        "colab": {
          "base_uri": "https://localhost:8080/",
          "height": 34
        }
      },
      "source": [
        "data.shape\n"
      ],
      "execution_count": 0,
      "outputs": [
        {
          "output_type": "execute_result",
          "data": {
            "text/plain": [
              "(39644, 62)"
            ]
          },
          "metadata": {
            "tags": []
          },
          "execution_count": 29
        }
      ]
    },
    {
      "cell_type": "markdown",
      "metadata": {
        "id": "tTIEu4hxLWf_",
        "colab_type": "text"
      },
      "source": [
        "Category is added to the Data as 62 attribute and will be used as target\n"
      ]
    },
    {
      "cell_type": "code",
      "metadata": {
        "id": "DS9okPzeLT18",
        "colab_type": "code",
        "colab": {}
      },
      "source": [
        "y = data['category']\n"
      ],
      "execution_count": 0,
      "outputs": []
    },
    {
      "cell_type": "code",
      "metadata": {
        "id": "g_qpNc-sLYxs",
        "colab_type": "code",
        "outputId": "666235d7-c48f-4315-8292-e9a6b3049300",
        "colab": {
          "base_uri": "https://localhost:8080/",
          "height": 34
        }
      },
      "source": [
        "x.shape\n",
        "\n"
      ],
      "execution_count": 0,
      "outputs": [
        {
          "output_type": "execute_result",
          "data": {
            "text/plain": [
              "(39644, 52)"
            ]
          },
          "metadata": {
            "tags": []
          },
          "execution_count": 31
        }
      ]
    },
    {
      "cell_type": "code",
      "metadata": {
        "id": "Hd7DoUvFLbb8",
        "colab_type": "code",
        "outputId": "338205f7-3f42-4de8-d284-c8c1ff412b38",
        "colab": {
          "base_uri": "https://localhost:8080/",
          "height": 34
        }
      },
      "source": [
        "y.shape"
      ],
      "execution_count": 0,
      "outputs": [
        {
          "output_type": "execute_result",
          "data": {
            "text/plain": [
              "(39644,)"
            ]
          },
          "metadata": {
            "tags": []
          },
          "execution_count": 32
        }
      ]
    },
    {
      "cell_type": "markdown",
      "metadata": {
        "id": "mdAzUBcALfep",
        "colab_type": "text"
      },
      "source": [
        "Spillting the data into training and test data taking 20% from the overall data as test data and 80% as training data\n"
      ]
    },
    {
      "cell_type": "code",
      "metadata": {
        "id": "Z1fydir1Lcjt",
        "colab_type": "code",
        "colab": {}
      },
      "source": [
        "X_train, X_test, y_train, y_test = train_test_split(x, y, test_size=0.20, random_state=324)\n"
      ],
      "execution_count": 0,
      "outputs": []
    },
    {
      "cell_type": "markdown",
      "metadata": {
        "id": "f2mguxPOLkjH",
        "colab_type": "text"
      },
      "source": [
        "verifying the data¶\n"
      ]
    },
    {
      "cell_type": "code",
      "metadata": {
        "id": "5BkHGzdILhvi",
        "colab_type": "code",
        "outputId": "bb04d10f-255c-4f16-b544-68a8a675088f",
        "colab": {
          "base_uri": "https://localhost:8080/",
          "height": 34
        }
      },
      "source": [
        "X_train.shape\n"
      ],
      "execution_count": 0,
      "outputs": [
        {
          "output_type": "execute_result",
          "data": {
            "text/plain": [
              "(31715, 52)"
            ]
          },
          "metadata": {
            "tags": []
          },
          "execution_count": 34
        }
      ]
    },
    {
      "cell_type": "code",
      "metadata": {
        "id": "NVST6fmqLn0H",
        "colab_type": "code",
        "outputId": "bac118e0-6a13-486a-aa06-45fda44d82dd",
        "colab": {
          "base_uri": "https://localhost:8080/",
          "height": 34
        }
      },
      "source": [
        "y_train.shape\n"
      ],
      "execution_count": 0,
      "outputs": [
        {
          "output_type": "execute_result",
          "data": {
            "text/plain": [
              "(31715,)"
            ]
          },
          "metadata": {
            "tags": []
          },
          "execution_count": 35
        }
      ]
    },
    {
      "cell_type": "code",
      "metadata": {
        "id": "06TULx32Lp9R",
        "colab_type": "code",
        "outputId": "745104d9-2533-4dab-c342-3344a9e802ad",
        "colab": {
          "base_uri": "https://localhost:8080/",
          "height": 34
        }
      },
      "source": [
        "X_test.shape\n"
      ],
      "execution_count": 0,
      "outputs": [
        {
          "output_type": "execute_result",
          "data": {
            "text/plain": [
              "(7929, 52)"
            ]
          },
          "metadata": {
            "tags": []
          },
          "execution_count": 36
        }
      ]
    },
    {
      "cell_type": "code",
      "metadata": {
        "id": "yLPX5paULrYx",
        "colab_type": "code",
        "outputId": "14851a43-5cd2-4897-c573-aeb2ff8a428d",
        "colab": {
          "base_uri": "https://localhost:8080/",
          "height": 34
        }
      },
      "source": [
        "y_test.shape\n"
      ],
      "execution_count": 0,
      "outputs": [
        {
          "output_type": "execute_result",
          "data": {
            "text/plain": [
              "(7929,)"
            ]
          },
          "metadata": {
            "tags": []
          },
          "execution_count": 37
        }
      ]
    },
    {
      "cell_type": "markdown",
      "metadata": {
        "id": "HRaL3QO6L5KS",
        "colab_type": "text"
      },
      "source": [
        "Implementing Decision Tree\n"
      ]
    },
    {
      "cell_type": "code",
      "metadata": {
        "id": "a7VjOujSLtGG",
        "colab_type": "code",
        "outputId": "7b4a72b0-3ac6-4b97-921d-3e3b386f0af9",
        "colab": {
          "base_uri": "https://localhost:8080/",
          "height": 34
        }
      },
      "source": [
        "rank_classifier = DecisionTreeClassifier(max_leaf_nodes=10, random_state=0)\n",
        "rank_classifier.fit(X_train,y_train)\n",
        "print(type(rank_classifier))\n",
        "Predictions = rank_classifier.predict(X_test)\n",
        "Predictions_train = rank_classifier.predict(X_train)\n"
      ],
      "execution_count": 0,
      "outputs": [
        {
          "output_type": "stream",
          "text": [
            "<class 'sklearn.tree._classes.DecisionTreeClassifier'>\n"
          ],
          "name": "stdout"
        }
      ]
    },
    {
      "cell_type": "code",
      "metadata": {
        "id": "0HgLVqsNL7uN",
        "colab_type": "code",
        "outputId": "446f3b73-d288-4ade-d2be-21820dab4c06",
        "colab": {
          "base_uri": "https://localhost:8080/",
          "height": 84
        }
      },
      "source": [
        "# Verifying the accuracy\n",
        "Testing_Accuarcy = accuracy_score(y_true = y_test, y_pred = Predictions)\n",
        "Training_Accuracy = accuracy_score(y_true = y_train, y_pred = Predictions_train)\n",
        "\n",
        "print(\"========Training Acuracy ========== \")\n",
        "print(Training_Accuracy)\n",
        "print(\"========Testing Acuracy =========== \")\n",
        "print(Testing_Accuarcy)\n"
      ],
      "execution_count": 0,
      "outputs": [
        {
          "output_type": "stream",
          "text": [
            "========Training Acuracy ========== \n",
            "0.7112722686425982\n",
            "========Testing Acuracy =========== \n",
            "0.7024845503846638\n"
          ],
          "name": "stdout"
        }
      ]
    },
    {
      "cell_type": "code",
      "metadata": {
        "id": "__nbyl-gL-qN",
        "colab_type": "code",
        "outputId": "db3584bc-fe7b-47b0-d738-793a9f734a63",
        "colab": {
          "base_uri": "https://localhost:8080/",
          "height": 50
        }
      },
      "source": [
        "confusion_matrix(y_test, Predictions)\n"
      ],
      "execution_count": 0,
      "outputs": [
        {
          "output_type": "execute_result",
          "data": {
            "text/plain": [
              "array([[ 741, 1807],\n",
              "       [ 552, 4829]])"
            ]
          },
          "metadata": {
            "tags": []
          },
          "execution_count": 40
        }
      ]
    },
    {
      "cell_type": "code",
      "metadata": {
        "id": "yOo1mduQMBMI",
        "colab_type": "code",
        "outputId": "06175252-ea57-4aa1-d261-14fdbf1bbef0",
        "colab": {
          "base_uri": "https://localhost:8080/",
          "height": 50
        }
      },
      "source": [
        "confusion_matrix(y_test,Predictions)\n",
        "from sklearn import metrics\n",
        "confusion=metrics.confusion_matrix(y_test, Predictions)\n",
        "print(confusion)\n",
        "TP = confusion[1, 1]\n",
        "TN = confusion[0, 0]\n",
        "FP = confusion[0, 1]\n",
        "FN = confusion[1, 0]\n"
      ],
      "execution_count": 0,
      "outputs": [
        {
          "output_type": "stream",
          "text": [
            "[[ 741 1807]\n",
            " [ 552 4829]]\n"
          ],
          "name": "stdout"
        }
      ]
    },
    {
      "cell_type": "code",
      "metadata": {
        "id": "3oMkDKmWMEcD",
        "colab_type": "code",
        "outputId": "6c0c79e1-9084-46b6-af75-61aac3f9c229",
        "colab": {
          "base_uri": "https://localhost:8080/",
          "height": 101
        }
      },
      "source": [
        "#Also known as \"Misclassification Rate\"how often is the classifier incorrect?\n",
        "print(1 - metrics.accuracy_score(y_test,Predictions))\n",
        "#Precision: When a positive value is predicted, how often is the prediction correct?\n",
        "print(metrics.precision_score(y_test, Predictions))\n",
        "#Sensitivity: When the actual value is positive, how often is the prediction correct?\n",
        "#Also known as \"True Positive Rate\" or \"Recall\"\n",
        "#Something we want to maximize\n",
        "sensitivity = TP / float(FN + TP)\n",
        "print(sensitivity)\n",
        "#Specificity: When the actual value is negative, how often is the prediction correct?\n",
        "\n",
        "#Something we want to maximize\n",
        "#How \"specific\" (or \"selective\") is the classifier in predicting positive instances?\n",
        "#TN / all negative\n",
        "#all negative = TN + FP\n",
        "specificity = TN / float(TN + FP)\n",
        "print(specificity)\n",
        "#False Positive Rate: When the actual value is negative, how often is the prediction incorrect?\n",
        "false_positive_rate = FP / float(TN + FP)\n",
        "\n",
        "print(false_positive_rate)\n"
      ],
      "execution_count": 0,
      "outputs": [
        {
          "output_type": "stream",
          "text": [
            "0.29751544961533616\n",
            "0.5730858468677494\n",
            "0.8974168370191414\n",
            "0.29081632653061223\n",
            "0.7091836734693877\n"
          ],
          "name": "stdout"
        }
      ]
    },
    {
      "cell_type": "markdown",
      "metadata": {
        "id": "jfK51M_SMLf0",
        "colab_type": "text"
      },
      "source": [
        "Using Recursive feature elimination for identifying the most relevant attributes¶\n",
        "Recursive Feature Elimination or RFE uses a model ( eg. linear Regression or SVM) to select either the best or worst-performing feature, and then excludes that feature. The whole process is then iterated until all features in the dataset are used up ( or up to a user-defined limit). Sklearn conveniently possesses a RFE function via the sklearn.feature_selection call and we use this along with a simple linear regression model and loistic regression model for ranking the features and to decide on the attribute for the model building.\n",
        "\n"
      ]
    },
    {
      "cell_type": "code",
      "metadata": {
        "id": "pP9OtYg0MHWs",
        "colab_type": "code",
        "outputId": "8fac6a53-ae3f-447d-c87f-b051fea22476",
        "colab": {
          "base_uri": "https://localhost:8080/",
          "height": 151
        }
      },
      "source": [
        "from sklearn.feature_selection import RFE\n",
        "from sklearn.linear_model import LinearRegression\n",
        "#use linear regression as the model\n",
        "lr = LinearRegression()\n",
        "rfe = RFE(lr, n_features_to_select=1)\n",
        "rfe.fit(x,y)\n",
        "print(rfe.support_)\n",
        "print(rfe.ranking_)\n"
      ],
      "execution_count": 0,
      "outputs": [
        {
          "output_type": "stream",
          "text": [
            "[False False False False False False False False False False False False\n",
            " False False False False False False False False False False False False\n",
            " False False False False False False False False False  True False False\n",
            " False False False False False False False False False False False False\n",
            " False False False False]\n",
            "[40 38 42 26 17  7 34 32 36 35 33 31 28 11 13  9 21 14 39 46 45 49 51 48\n",
            " 44 43 41 52 50 47 10  4  2  1  3  5  6 24 15  8 18 16 22 12 29 20 37 19\n",
            " 27 25 23 30]\n"
          ],
          "name": "stdout"
        }
      ]
    },
    {
      "cell_type": "code",
      "metadata": {
        "id": "rV-VRFPsMPnQ",
        "colab_type": "code",
        "outputId": "cfd05411-5946-45f3-c8bd-3e11fce5909e",
        "colab": {
          "base_uri": "https://localhost:8080/",
          "height": 890
        }
      },
      "source": [
        "list(x)\n"
      ],
      "execution_count": 0,
      "outputs": [
        {
          "output_type": "execute_result",
          "data": {
            "text/plain": [
              "[' timedelta',\n",
              " ' n_tokens_title',\n",
              " ' n_tokens_content',\n",
              " ' n_unique_tokens',\n",
              " ' n_non_stop_words',\n",
              " ' n_non_stop_unique_tokens',\n",
              " ' num_hrefs',\n",
              " ' num_self_hrefs',\n",
              " ' num_imgs',\n",
              " ' num_videos',\n",
              " ' average_token_length',\n",
              " ' num_keywords',\n",
              " ' data_channel_is_lifestyle',\n",
              " ' data_channel_is_entertainment',\n",
              " ' data_channel_is_bus',\n",
              " ' data_channel_is_socmed',\n",
              " ' data_channel_is_tech',\n",
              " ' data_channel_is_world',\n",
              " ' kw_min_min',\n",
              " ' kw_max_min',\n",
              " ' kw_avg_min',\n",
              " ' kw_min_max',\n",
              " ' kw_max_max',\n",
              " ' kw_avg_max',\n",
              " ' kw_min_avg',\n",
              " ' kw_max_avg',\n",
              " ' kw_avg_avg',\n",
              " ' self_reference_min_shares',\n",
              " ' self_reference_max_shares',\n",
              " ' self_reference_avg_sharess',\n",
              " ' is_weekend',\n",
              " ' LDA_00',\n",
              " ' LDA_01',\n",
              " ' LDA_02',\n",
              " ' LDA_03',\n",
              " ' LDA_04',\n",
              " ' global_subjectivity',\n",
              " ' global_sentiment_polarity',\n",
              " ' global_rate_positive_words',\n",
              " ' global_rate_negative_words',\n",
              " ' rate_positive_words',\n",
              " ' rate_negative_words',\n",
              " ' avg_positive_polarity',\n",
              " ' min_positive_polarity',\n",
              " ' max_positive_polarity',\n",
              " ' avg_negative_polarity',\n",
              " ' min_negative_polarity',\n",
              " ' max_negative_polarity',\n",
              " ' title_subjectivity',\n",
              " ' title_sentiment_polarity',\n",
              " ' abs_title_subjectivity',\n",
              " ' abs_title_sentiment_polarity']"
            ]
          },
          "metadata": {
            "tags": []
          },
          "execution_count": 44
        }
      ]
    },
    {
      "cell_type": "code",
      "metadata": {
        "id": "i3eV6PVeMRy0",
        "colab_type": "code",
        "colab": {}
      },
      "source": [
        "x_New = data[[' LDA_02',' LDA_01',' LDA_03',' LDA_00',' LDA_04',' data_channel_is_socmed',' is_weekend',' data_channel_is_entertainment',' num_keywords',' global_subjectivity',' num_self_hrefs',' num_hrefs',' num_imgs',' num_videos',' n_tokens_title',' n_non_stop_unique_tokens',' n_non_stop_words',' global_rate_negative_words',' data_channel_is_tech',' rate_negative_words',' rate_positive_words']]\n"
      ],
      "execution_count": 0,
      "outputs": []
    },
    {
      "cell_type": "code",
      "metadata": {
        "id": "pGZkTY_8MUkJ",
        "colab_type": "code",
        "outputId": "02bdb4e8-d55f-4c6a-a65f-3f98e12a6743",
        "colab": {
          "base_uri": "https://localhost:8080/",
          "height": 34
        }
      },
      "source": [
        "x_New.shape\n"
      ],
      "execution_count": 0,
      "outputs": [
        {
          "output_type": "execute_result",
          "data": {
            "text/plain": [
              "(39644, 21)"
            ]
          },
          "metadata": {
            "tags": []
          },
          "execution_count": 46
        }
      ]
    },
    {
      "cell_type": "code",
      "metadata": {
        "id": "MOuhfiASMWOM",
        "colab_type": "code",
        "colab": {}
      },
      "source": [
        "#splitting the data\n",
        "X_train, X_test, y_train, y_test = train_test_split(x_New, y, test_size=0.20, random_state=324)\n"
      ],
      "execution_count": 0,
      "outputs": []
    },
    {
      "cell_type": "code",
      "metadata": {
        "id": "he_pwHz5MlJN",
        "colab_type": "code",
        "outputId": "0d74f040-c408-4ca3-a20e-50e6c3d0bfdc",
        "colab": {
          "base_uri": "https://localhost:8080/",
          "height": 34
        }
      },
      "source": [
        "rank_classifier = DecisionTreeClassifier(max_leaf_nodes=10, random_state=0)\n",
        "rank_classifier.fit(X_train,y_train)\n",
        "print(type(rank_classifier))\n",
        "Predictions = rank_classifier.predict(X_test)\n"
      ],
      "execution_count": 0,
      "outputs": [
        {
          "output_type": "stream",
          "text": [
            "<class 'sklearn.tree._classes.DecisionTreeClassifier'>\n"
          ],
          "name": "stdout"
        }
      ]
    },
    {
      "cell_type": "code",
      "metadata": {
        "id": "y7SOJUMwMoOe",
        "colab_type": "code",
        "outputId": "8007d34b-3b1b-4c64-d006-d59197822fc9",
        "colab": {
          "base_uri": "https://localhost:8080/",
          "height": 34
        }
      },
      "source": [
        "#calculating the accuracy score\n",
        "Accuracy_DT = accuracy_score(y_true = y_test, y_pred = Predictions)\n",
        "Accuracy_DT"
      ],
      "execution_count": 0,
      "outputs": [
        {
          "output_type": "execute_result",
          "data": {
            "text/plain": [
              "0.6749905410518351"
            ]
          },
          "metadata": {
            "tags": []
          },
          "execution_count": 49
        }
      ]
    },
    {
      "cell_type": "code",
      "metadata": {
        "id": "ThCcJA_LMqwq",
        "colab_type": "code",
        "outputId": "533c0ee1-02f6-402e-897d-734b1f073404",
        "colab": {
          "base_uri": "https://localhost:8080/",
          "height": 50
        }
      },
      "source": [
        "from sklearn import metrics\n",
        "confusion=metrics.confusion_matrix(y_test, Predictions)\n",
        "print(confusion)\n",
        "TP_DT = confusion[1, 1]\n",
        "TN_DT = confusion[0, 0]\n",
        "FP_DT = confusion[0, 1]\n",
        "FN_DT = confusion[1, 0]\n",
        "#fpr, tpr, thresholds = metrics.roc_curve(y_test,Predictions)\n"
      ],
      "execution_count": 0,
      "outputs": [
        {
          "output_type": "stream",
          "text": [
            "[[ 596 1952]\n",
            " [ 625 4756]]\n"
          ],
          "name": "stdout"
        }
      ]
    },
    {
      "cell_type": "code",
      "metadata": {
        "id": "EqHTZv06Mtl3",
        "colab_type": "code",
        "outputId": "2bc042c5-d32f-4345-c7c9-ef0bff8e4e1e",
        "colab": {
          "base_uri": "https://localhost:8080/",
          "height": 84
        }
      },
      "source": [
        "#Also known as \"Misclassification Rate\"how often is the classifier incorrect?\n",
        "print(1 - metrics.accuracy_score(y_test, Predictions))\n",
        "#Precision: When a positive value is predicted, how often is the prediction correct?\n",
        "print(metrics.precision_score(y_test, Predictions))\n",
        "precision_DT = metrics.precision_score(y_test, Predictions)\n",
        "recall_DT = metrics.recall_score(y_test, Predictions)\n",
        "#Sensitivity: When the actual value is positive, how often is the prediction correct?\n",
        "#Also known as \"True Positive Rate\" or \"Recall\"\n",
        "#Something we want to maximize\n",
        "\n",
        "#Specificity: When the actual value is negative, how often is the prediction correct?\n",
        "sensitivity_DT = TP_DT / float(FN_DT + TP_DT)\n",
        "print(sensitivity)\n",
        "#Something we want to maximize\n",
        "#How \"specific\" (or \"selective\") is the classifier in predicting positive instances?\n",
        "#TN / all negative\n",
        "#all negative = TN + FP\n",
        "specificity_DT = TN_DT / (TN_DT + FP_DT)\n",
        "print(specificity)\n"
      ],
      "execution_count": 0,
      "outputs": [
        {
          "output_type": "stream",
          "text": [
            "0.3250094589481649\n",
            "0.4881244881244881\n",
            "0.8974168370191414\n",
            "0.29081632653061223\n"
          ],
          "name": "stdout"
        }
      ]
    },
    {
      "cell_type": "code",
      "metadata": {
        "id": "36gTR7chM4Ld",
        "colab_type": "code",
        "colab": {}
      },
      "source": [
        "#from sklearn.preprocessing import label_binarize \n",
        "#y = binarize(predicted_knn, 0.3)\n",
        "#n_classes = y.reshape(-1, 1)\n",
        "y_pred_prob = rank_classifier.predict_proba(X_test)[:, 1]\n",
        "\n",
        "\n",
        "#y_pred_class = binarize(y_pred_prob, 0.3)\n",
        "fpr, tpr, thresholds = metrics.roc_curve(y_test,y_pred_prob,pos_label=2)\n"
      ],
      "execution_count": 0,
      "outputs": []
    },
    {
      "cell_type": "code",
      "metadata": {
        "id": "4IRHHEzZO8iF",
        "colab_type": "code",
        "outputId": "3d4cf693-eacd-4b2e-bc7f-fa6d0bc91d73",
        "colab": {
          "base_uri": "https://localhost:8080/",
          "height": 296
        }
      },
      "source": [
        "plt.plot(fpr, tpr)\n",
        "plt.xlim([0.0, 1.0])\n",
        "plt.ylim([0.0, 1.0])\n",
        "plt.rcParams['font.size'] = 12\n",
        "plt.title('ROC curve ')\n",
        "plt.xlabel('False Positive Rate (1 - Specificity)')\n",
        "plt.ylabel('True Positive Rate (Sensitivity)')\n",
        "plt.grid(True)\n",
        "plt.show()\n"
      ],
      "execution_count": 0,
      "outputs": [
        {
          "output_type": "display_data",
          "data": {
            "image/png": "[encoded data removed]",
            "text/plain": [
              "<Figure size 432x288 with 1 Axes>"
            ]
          },
          "metadata": {
            "tags": []
          }
        }
      ]
    },
    {
      "cell_type": "code",
      "metadata": {
        "id": "I5SrtJSzPAmW",
        "colab_type": "code",
        "colab": {}
      },
      "source": [
        "def evaluate_threshold(threshold):\n",
        "    print('Sensitivity:', tpr[thresholds > threshold][-1])\n",
        "    print('Specificity:', 1 - fpr[thresholds > threshold][-1])\n"
      ],
      "execution_count": 0,
      "outputs": []
    },
    {
      "cell_type": "code",
      "metadata": {
        "id": "QUxld7j8PD14",
        "colab_type": "code",
        "outputId": "72d98f34-fc96-4575-f1c0-735c600885f8",
        "colab": {
          "base_uri": "https://localhost:8080/",
          "height": 50
        }
      },
      "source": [
        "evaluate_threshold(0.65)\n"
      ],
      "execution_count": 0,
      "outputs": [
        {
          "output_type": "stream",
          "text": [
            "Sensitivity: 0.681100167255157\n",
            "Specificity: 0.5773155416012559\n"
          ],
          "name": "stdout"
        }
      ]
    },
    {
      "cell_type": "code",
      "metadata": {
        "id": "ZfFIPnBTPFwq",
        "colab_type": "code",
        "outputId": "92d409f9-0c1f-4d21-a982-ff3ff6a0a4e7",
        "colab": {
          "base_uri": "https://localhost:8080/",
          "height": 34
        }
      },
      "source": [
        "#loss function\n",
        "from sklearn.metrics import log_loss\n",
        "Loss_DT = log_loss(y_test,y_pred_prob)\n",
        "Loss_DT\n"
      ],
      "execution_count": 0,
      "outputs": [
        {
          "output_type": "execute_result",
          "data": {
            "text/plain": [
              "0.5894467289540443"
            ]
          },
          "metadata": {
            "tags": []
          },
          "execution_count": 67
        }
      ]
    },
    {
      "cell_type": "markdown",
      "metadata": {
        "id": "3d8NBG8nPTfl",
        "colab_type": "text"
      },
      "source": [
        "CONCLUSION\n"
      ]
    },
    {
      "cell_type": "markdown",
      "metadata": {
        "id": "Xvf_o30LPYdh",
        "colab_type": "text"
      },
      "source": [
        "The decision tree  model that we have built gives 67% accuracy on the testing data. Thus, we have built a model that can predict if the News will become popular based on the given features of the news.\n",
        "\n"
      ]
    }
  ]
}